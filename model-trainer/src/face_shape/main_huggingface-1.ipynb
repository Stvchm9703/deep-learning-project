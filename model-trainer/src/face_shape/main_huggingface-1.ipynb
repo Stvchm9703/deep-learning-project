{
 "cells": [
  {
   "cell_type": "markdown",
   "metadata": {},
   "source": [
    "author : Ho Man Cheng\n",
    "description : for training a facial type model"
   ]
  },
  {
   "cell_type": "code",
   "execution_count": 3,
   "metadata": {},
   "outputs": [],
   "source": [
    "# import dataset\n",
    "import pandas as pd\n",
    "from util import (DATASET_PATH )\n",
    "import tensorflow\n",
    "from tensorflow.keras import models, layers, optimizers, callbacks, applications\n",
    "from tensorflow.keras.callbacks import ModelCheckpoint\n",
    "\n",
    "from tensorflow.keras.preprocessing.image import ImageDataGenerator\n",
    "\n",
    "# from huggingface\n",
    "\n",
    "from transformers import pipeline\n",
    "from huggingface_hub import hf_hub_download"
   ]
  },
  {
   "cell_type": "code",
   "execution_count": 4,
   "metadata": {},
   "outputs": [],
   "source": [
    "# BASE_REPO = \"facebook/convnextv2-tiny-1k-224\"\n",
    "BASE_REPO = \"metadome/face_shape_classification\""
   ]
  },
  {
   "cell_type": "code",
   "execution_count": null,
   "metadata": {},
   "outputs": [],
   "source": [
    "# hf_hub_download(BASE)"
   ]
  },
  {
   "cell_type": "code",
   "execution_count": 6,
   "metadata": {},
   "outputs": [
    {
     "data": {
      "application/vnd.jupyter.widget-view+json": {
       "model_id": "5e4d677e977740228e014604406c1aca",
       "version_major": 2,
       "version_minor": 0
      },
      "text/plain": [
       "Resolving data files:   0%|          | 0/3497 [00:00<?, ?it/s]"
      ]
     },
     "metadata": {},
     "output_type": "display_data"
    },
    {
     "data": {
      "application/vnd.jupyter.widget-view+json": {
       "model_id": "3687549f96ba42a3b8a384de836822cc",
       "version_major": 2,
       "version_minor": 0
      },
      "text/plain": [
       "Resolving data files:   0%|          | 0/1499 [00:00<?, ?it/s]"
      ]
     },
     "metadata": {},
     "output_type": "display_data"
    },
    {
     "data": {
      "application/vnd.jupyter.widget-view+json": {
       "model_id": "d0d74a318f124484bcdd1d87f99987c1",
       "version_major": 2,
       "version_minor": 0
      },
      "text/plain": [
       "Generating train split: 0 examples [00:00, ? examples/s]"
      ]
     },
     "metadata": {},
     "output_type": "display_data"
    },
    {
     "data": {
      "application/vnd.jupyter.widget-view+json": {
       "model_id": "5fca6a39be64435385f814000c805a10",
       "version_major": 2,
       "version_minor": 0
      },
      "text/plain": [
       "Generating test split: 0 examples [00:00, ? examples/s]"
      ]
     },
     "metadata": {},
     "output_type": "display_data"
    }
   ],
   "source": [
    "import datasets\n",
    "\n",
    "train_data = datasets.load_dataset(f\"{DATASET_PATH}/face_shape__batch_0\")"
   ]
  },
  {
   "cell_type": "code",
   "execution_count": 7,
   "metadata": {},
   "outputs": [
    {
     "data": {
      "text/plain": [
       "DatasetDict({\n",
       "    train: Dataset({\n",
       "        features: ['image', 'label'],\n",
       "        num_rows: 3497\n",
       "    })\n",
       "    test: Dataset({\n",
       "        features: ['image', 'label'],\n",
       "        num_rows: 1499\n",
       "    })\n",
       "})"
      ]
     },
     "execution_count": 7,
     "metadata": {},
     "output_type": "execute_result"
    }
   ],
   "source": [
    "train_data"
   ]
  },
  {
   "cell_type": "code",
   "execution_count": 8,
   "metadata": {},
   "outputs": [],
   "source": [
    "label_list =  train_data[\"train\"].features[\"label\"].names\n",
    "id2label = {}\n",
    "label2id = {}\n",
    "for idx, label in enumerate(label_list):\n",
    "    id2label[idx] = label \n",
    "    label2id[label] = [idx]\n",
    "# id2label = {0: \"Invalid\", 1: \"Valid\"}\n",
    "# label2id = {val: key for key, val in train_data[\"train\"].features[\"label\"]}"
   ]
  },
  {
   "cell_type": "code",
   "execution_count": null,
   "metadata": {},
   "outputs": [],
   "source": []
  },
  {
   "cell_type": "code",
   "execution_count": 27,
   "metadata": {},
   "outputs": [
    {
     "name": "stderr",
     "output_type": "stream",
     "text": [
      "2024-04-28 04:25:49.730572: W external/local_tsl/tsl/framework/bfc_allocator.cc:487] Allocator (GPU_0_bfc) ran out of memory trying to allocate 591.0KiB (rounded to 605184)requested by op StatelessTruncatedNormalV2\n",
      "If the cause is memory fragmentation maybe the environment variable 'TF_GPU_ALLOCATOR=cuda_malloc_async' will improve the situation. \n",
      "Current allocation summary follows.\n",
      "Current allocation summary follows.\n",
      "2024-04-28 04:25:49.730661: I external/local_tsl/tsl/framework/bfc_allocator.cc:1044] BFCAllocator dump for GPU_0_bfc\n",
      "2024-04-28 04:25:49.730689: I external/local_tsl/tsl/framework/bfc_allocator.cc:1051] Bin (256): \tTotal Chunks: 13, Chunks in use: 13. 3.2KiB allocated for chunks. 3.2KiB in use in bin. 120B client-requested in use in bin.\n",
      "2024-04-28 04:25:49.730705: I external/local_tsl/tsl/framework/bfc_allocator.cc:1051] Bin (512): \tTotal Chunks: 0, Chunks in use: 0. 0B allocated for chunks. 0B in use in bin. 0B client-requested in use in bin.\n",
      "2024-04-28 04:25:49.730720: I external/local_tsl/tsl/framework/bfc_allocator.cc:1051] Bin (1024): \tTotal Chunks: 1, Chunks in use: 1. 1.2KiB allocated for chunks. 1.2KiB in use in bin. 1.0KiB client-requested in use in bin.\n",
      "2024-04-28 04:25:49.730738: I external/local_tsl/tsl/framework/bfc_allocator.cc:1051] Bin (2048): \tTotal Chunks: 64, Chunks in use: 63. 191.5KiB allocated for chunks. 189.5KiB in use in bin. 189.0KiB client-requested in use in bin.\n",
      "2024-04-28 04:25:49.730754: I external/local_tsl/tsl/framework/bfc_allocator.cc:1051] Bin (4096): \tTotal Chunks: 1, Chunks in use: 0. 6.0KiB allocated for chunks. 0B in use in bin. 0B client-requested in use in bin.\n",
      "2024-04-28 04:25:49.730771: I external/local_tsl/tsl/framework/bfc_allocator.cc:1051] Bin (8192): \tTotal Chunks: 7, Chunks in use: 7. 86.8KiB allocated for chunks. 86.8KiB in use in bin. 84.0KiB client-requested in use in bin.\n",
      "2024-04-28 04:25:49.730784: I external/local_tsl/tsl/framework/bfc_allocator.cc:1051] Bin (16384): \tTotal Chunks: 0, Chunks in use: 0. 0B allocated for chunks. 0B in use in bin. 0B client-requested in use in bin.\n",
      "2024-04-28 04:25:49.730796: I external/local_tsl/tsl/framework/bfc_allocator.cc:1051] Bin (32768): \tTotal Chunks: 0, Chunks in use: 0. 0B allocated for chunks. 0B in use in bin. 0B client-requested in use in bin.\n",
      "2024-04-28 04:25:49.730808: I external/local_tsl/tsl/framework/bfc_allocator.cc:1051] Bin (65536): \tTotal Chunks: 0, Chunks in use: 0. 0B allocated for chunks. 0B in use in bin. 0B client-requested in use in bin.\n",
      "2024-04-28 04:25:49.730821: I external/local_tsl/tsl/framework/bfc_allocator.cc:1051] Bin (131072): \tTotal Chunks: 0, Chunks in use: 0. 0B allocated for chunks. 0B in use in bin. 0B client-requested in use in bin.\n",
      "2024-04-28 04:25:49.730833: I external/local_tsl/tsl/framework/bfc_allocator.cc:1051] Bin (262144): \tTotal Chunks: 0, Chunks in use: 0. 0B allocated for chunks. 0B in use in bin. 0B client-requested in use in bin.\n",
      "2024-04-28 04:25:49.730848: I external/local_tsl/tsl/framework/bfc_allocator.cc:1051] Bin (524288): \tTotal Chunks: 4, Chunks in use: 3. 2.64MiB allocated for chunks. 2.07MiB in use in bin. 1.73MiB client-requested in use in bin.\n",
      "2024-04-28 04:25:49.730863: I external/local_tsl/tsl/framework/bfc_allocator.cc:1051] Bin (1048576): \tTotal Chunks: 1, Chunks in use: 1. 1.10MiB allocated for chunks. 1.10MiB in use in bin. 591.0KiB client-requested in use in bin.\n",
      "2024-04-28 04:25:49.730878: I external/local_tsl/tsl/framework/bfc_allocator.cc:1051] Bin (2097152): \tTotal Chunks: 30, Chunks in use: 30. 67.50MiB allocated for chunks. 67.50MiB in use in bin. 67.50MiB client-requested in use in bin.\n",
      "2024-04-28 04:25:49.730891: I external/local_tsl/tsl/framework/bfc_allocator.cc:1051] Bin (4194304): \tTotal Chunks: 0, Chunks in use: 0. 0B allocated for chunks. 0B in use in bin. 0B client-requested in use in bin.\n",
      "2024-04-28 04:25:49.730907: I external/local_tsl/tsl/framework/bfc_allocator.cc:1051] Bin (8388608): \tTotal Chunks: 15, Chunks in use: 15. 137.92MiB allocated for chunks. 137.92MiB in use in bin. 135.00MiB client-requested in use in bin.\n",
      "2024-04-28 04:25:49.730919: I external/local_tsl/tsl/framework/bfc_allocator.cc:1051] Bin (16777216): \tTotal Chunks: 0, Chunks in use: 0. 0B allocated for chunks. 0B in use in bin. 0B client-requested in use in bin.\n",
      "2024-04-28 04:25:49.730945: I external/local_tsl/tsl/framework/bfc_allocator.cc:1051] Bin (33554432): \tTotal Chunks: 0, Chunks in use: 0. 0B allocated for chunks. 0B in use in bin. 0B client-requested in use in bin.\n",
      "2024-04-28 04:25:49.730957: I external/local_tsl/tsl/framework/bfc_allocator.cc:1051] Bin (67108864): \tTotal Chunks: 0, Chunks in use: 0. 0B allocated for chunks. 0B in use in bin. 0B client-requested in use in bin.\n",
      "2024-04-28 04:25:49.730969: I external/local_tsl/tsl/framework/bfc_allocator.cc:1051] Bin (134217728): \tTotal Chunks: 0, Chunks in use: 0. 0B allocated for chunks. 0B in use in bin. 0B client-requested in use in bin.\n",
      "2024-04-28 04:25:49.730982: I external/local_tsl/tsl/framework/bfc_allocator.cc:1051] Bin (268435456): \tTotal Chunks: 0, Chunks in use: 0. 0B allocated for chunks. 0B in use in bin. 0B client-requested in use in bin.\n",
      "2024-04-28 04:25:49.730995: I external/local_tsl/tsl/framework/bfc_allocator.cc:1067] Bin for 591.0KiB was 512.0KiB, Chunk State: \n",
      "2024-04-28 04:25:49.731027: I external/local_tsl/tsl/framework/bfc_allocator.cc:1073]   Size: 582.0KiB | Requested Size: 0B | in_use: 0 | bin_num: 11, prev:   Size: 3.0KiB | Requested Size: 3.0KiB | in_use: 1 | bin_num: -1, next:   Size: 591.0KiB | Requested Size: 591.0KiB | in_use: 1 | bin_num: -1\n",
      "2024-04-28 04:25:49.731040: I external/local_tsl/tsl/framework/bfc_allocator.cc:1080] Next region of size 219611136\n",
      "2024-04-28 04:25:49.731056: I external/local_tsl/tsl/framework/bfc_allocator.cc:1100] InUse at 71cca0000000 of size 256 next 1\n",
      "2024-04-28 04:25:49.731066: I external/local_tsl/tsl/framework/bfc_allocator.cc:1100] InUse at 71cca0000100 of size 1280 next 2\n",
      "2024-04-28 04:25:49.731075: I external/local_tsl/tsl/framework/bfc_allocator.cc:1100] InUse at 71cca0000600 of size 256 next 3\n",
      "2024-04-28 04:25:49.731084: I external/local_tsl/tsl/framework/bfc_allocator.cc:1100] InUse at 71cca0000700 of size 256 next 4\n",
      "2024-04-28 04:25:49.731093: I external/local_tsl/tsl/framework/bfc_allocator.cc:1100] InUse at 71cca0000800 of size 256 next 7\n",
      "2024-04-28 04:25:49.731102: I external/local_tsl/tsl/framework/bfc_allocator.cc:1100] InUse at 71cca0000900 of size 3072 next 130\n",
      "2024-04-28 04:25:49.731202: I external/local_tsl/tsl/framework/bfc_allocator.cc:1100] InUse at 71cca0001500 of size 3584 next 129\n",
      "2024-04-28 04:25:49.731215: I external/local_tsl/tsl/framework/bfc_allocator.cc:1100] InUse at 71cca0002300 of size 3072 next 11\n",
      "2024-04-28 04:25:49.731226: I external/local_tsl/tsl/framework/bfc_allocator.cc:1100] InUse at 71cca0002f00 of size 3072 next 10\n",
      "2024-04-28 04:25:49.731236: I external/local_tsl/tsl/framework/bfc_allocator.cc:1100] InUse at 71cca0003b00 of size 3072 next 125\n",
      "2024-04-28 04:25:49.731246: I external/local_tsl/tsl/framework/bfc_allocator.cc:1100] InUse at 71cca0004700 of size 3072 next 123\n",
      "2024-04-28 04:25:49.731259: I external/local_tsl/tsl/framework/bfc_allocator.cc:1100] InUse at 71cca0005300 of size 15104 next 25\n",
      "2024-04-28 04:25:49.731269: I external/local_tsl/tsl/framework/bfc_allocator.cc:1100] InUse at 71cca0008e00 of size 256 next 15\n",
      "2024-04-28 04:25:49.731278: I external/local_tsl/tsl/framework/bfc_allocator.cc:1100] InUse at 71cca0008f00 of size 3072 next 127\n",
      "2024-04-28 04:25:49.731288: I external/local_tsl/tsl/framework/bfc_allocator.cc:1100] InUse at 71cca0009b00 of size 3072 next 28\n",
      "2024-04-28 04:25:49.731298: I external/local_tsl/tsl/framework/bfc_allocator.cc:1100] InUse at 71cca000a700 of size 3072 next 54\n",
      "2024-04-28 04:25:49.731309: I external/local_tsl/tsl/framework/bfc_allocator.cc:1100] InUse at 71cca000b300 of size 3072 next 22\n",
      "2024-04-28 04:25:49.731319: I external/local_tsl/tsl/framework/bfc_allocator.cc:1100] InUse at 71cca000bf00 of size 3072 next 24\n",
      "2024-04-28 04:25:49.731332: I external/local_tsl/tsl/framework/bfc_allocator.cc:1100] InUse at 71cca000cb00 of size 3072 next 18\n",
      "2024-04-28 04:25:49.731343: I external/local_tsl/tsl/framework/bfc_allocator.cc:1100] InUse at 71cca000d700 of size 3072 next 21\n",
      "2024-04-28 04:25:49.731356: I external/local_tsl/tsl/framework/bfc_allocator.cc:1100] InUse at 71cca000e300 of size 3072 next 17\n",
      "2024-04-28 04:25:49.731366: I external/local_tsl/tsl/framework/bfc_allocator.cc:1100] InUse at 71cca000ef00 of size 3072 next 16\n",
      "2024-04-28 04:25:49.731380: I external/local_tsl/tsl/framework/bfc_allocator.cc:1100] InUse at 71cca000fb00 of size 12288 next 26\n",
      "2024-04-28 04:25:49.731391: I external/local_tsl/tsl/framework/bfc_allocator.cc:1100] InUse at 71cca0012b00 of size 3072 next 20\n",
      "2024-04-28 04:25:49.731404: I external/local_tsl/tsl/framework/bfc_allocator.cc:1100] InUse at 71cca0013700 of size 3072 next 45\n",
      "2024-04-28 04:25:49.731414: I external/local_tsl/tsl/framework/bfc_allocator.cc:1100] InUse at 71cca0014300 of size 3072 next 44\n",
      "2024-04-28 04:25:49.731425: I external/local_tsl/tsl/framework/bfc_allocator.cc:1100] InUse at 71cca0014f00 of size 3072 next 42\n",
      "2024-04-28 04:25:49.731435: I external/local_tsl/tsl/framework/bfc_allocator.cc:1100] InUse at 71cca0015b00 of size 3072 next 31\n",
      "2024-04-28 04:25:49.731446: I external/local_tsl/tsl/framework/bfc_allocator.cc:1100] InUse at 71cca0016700 of size 3072 next 43\n",
      "2024-04-28 04:25:49.731456: I external/local_tsl/tsl/framework/bfc_allocator.cc:1100] InUse at 71cca0017300 of size 3072 next 40\n",
      "2024-04-28 04:25:49.731469: I external/local_tsl/tsl/framework/bfc_allocator.cc:1100] InUse at 71cca0017f00 of size 3072 next 37\n",
      "2024-04-28 04:25:49.731479: I external/local_tsl/tsl/framework/bfc_allocator.cc:1100] InUse at 71cca0018b00 of size 3072 next 30\n",
      "2024-04-28 04:25:49.731489: I external/local_tsl/tsl/framework/bfc_allocator.cc:1100] InUse at 71cca0019700 of size 12288 next 41\n",
      "2024-04-28 04:25:49.731500: I external/local_tsl/tsl/framework/bfc_allocator.cc:1100] InUse at 71cca001c700 of size 3072 next 35\n",
      "2024-04-28 04:25:49.731510: I external/local_tsl/tsl/framework/bfc_allocator.cc:1100] InUse at 71cca001d300 of size 3072 next 62\n",
      "2024-04-28 04:25:49.731521: I external/local_tsl/tsl/framework/bfc_allocator.cc:1100] InUse at 71cca001df00 of size 3072 next 61\n",
      "2024-04-28 04:25:49.731531: I external/local_tsl/tsl/framework/bfc_allocator.cc:1100] InUse at 71cca001eb00 of size 3072 next 59\n",
      "2024-04-28 04:25:49.731542: I external/local_tsl/tsl/framework/bfc_allocator.cc:1100] InUse at 71cca001f700 of size 3072 next 56\n",
      "2024-04-28 04:25:49.731550: I external/local_tsl/tsl/framework/bfc_allocator.cc:1100] InUse at 71cca0020300 of size 3072 next 48\n",
      "2024-04-28 04:25:49.731560: I external/local_tsl/tsl/framework/bfc_allocator.cc:1100] InUse at 71cca0020f00 of size 3072 next 58\n",
      "2024-04-28 04:25:49.731568: I external/local_tsl/tsl/framework/bfc_allocator.cc:1100] InUse at 71cca0021b00 of size 3072 next 47\n",
      "2024-04-28 04:25:49.731578: I external/local_tsl/tsl/framework/bfc_allocator.cc:1100] InUse at 71cca0022700 of size 3072 next 53\n",
      "2024-04-28 04:25:49.731587: I external/local_tsl/tsl/framework/bfc_allocator.cc:1100] InUse at 71cca0023300 of size 12288 next 51\n",
      "2024-04-28 04:25:49.731596: I external/local_tsl/tsl/framework/bfc_allocator.cc:1100] InUse at 71cca0026300 of size 3072 next 52\n",
      "2024-04-28 04:25:49.731605: I external/local_tsl/tsl/framework/bfc_allocator.cc:1100] InUse at 71cca0026f00 of size 3072 next 78\n",
      "2024-04-28 04:25:49.731615: I external/local_tsl/tsl/framework/bfc_allocator.cc:1100] InUse at 71cca0027b00 of size 3072 next 77\n",
      "2024-04-28 04:25:49.731623: I external/local_tsl/tsl/framework/bfc_allocator.cc:1100] InUse at 71cca0028700 of size 3072 next 75\n",
      "2024-04-28 04:25:49.731633: I external/local_tsl/tsl/framework/bfc_allocator.cc:1100] InUse at 71cca0029300 of size 3072 next 72\n",
      "2024-04-28 04:25:49.731641: I external/local_tsl/tsl/framework/bfc_allocator.cc:1100] InUse at 71cca0029f00 of size 3072 next 71\n",
      "2024-04-28 04:25:49.731651: I external/local_tsl/tsl/framework/bfc_allocator.cc:1100] InUse at 71cca002ab00 of size 3072 next 74\n",
      "2024-04-28 04:25:49.731660: I external/local_tsl/tsl/framework/bfc_allocator.cc:1100] InUse at 71cca002b700 of size 3072 next 69\n",
      "2024-04-28 04:25:49.731669: I external/local_tsl/tsl/framework/bfc_allocator.cc:1100] InUse at 71cca002c300 of size 3072 next 67\n",
      "2024-04-28 04:25:49.731678: I external/local_tsl/tsl/framework/bfc_allocator.cc:1100] InUse at 71cca002cf00 of size 12288 next 65\n",
      "2024-04-28 04:25:49.731688: I external/local_tsl/tsl/framework/bfc_allocator.cc:1100] InUse at 71cca002ff00 of size 3072 next 68\n",
      "2024-04-28 04:25:49.731696: I external/local_tsl/tsl/framework/bfc_allocator.cc:1100] InUse at 71cca0030b00 of size 3072 next 94\n",
      "2024-04-28 04:25:49.731706: I external/local_tsl/tsl/framework/bfc_allocator.cc:1100] InUse at 71cca0031700 of size 3072 next 93\n",
      "2024-04-28 04:25:49.731715: I external/local_tsl/tsl/framework/bfc_allocator.cc:1100] InUse at 71cca0032300 of size 3072 next 91\n",
      "2024-04-28 04:25:49.731724: I external/local_tsl/tsl/framework/bfc_allocator.cc:1100] InUse at 71cca0032f00 of size 3072 next 88\n",
      "2024-04-28 04:25:49.731733: I external/local_tsl/tsl/framework/bfc_allocator.cc:1100] InUse at 71cca0033b00 of size 3072 next 87\n",
      "2024-04-28 04:25:49.731742: I external/local_tsl/tsl/framework/bfc_allocator.cc:1100] InUse at 71cca0034700 of size 3072 next 90\n",
      "2024-04-28 04:25:49.731751: I external/local_tsl/tsl/framework/bfc_allocator.cc:1100] InUse at 71cca0035300 of size 3072 next 85\n",
      "2024-04-28 04:25:49.731760: I external/local_tsl/tsl/framework/bfc_allocator.cc:1100] InUse at 71cca0035f00 of size 3072 next 83\n",
      "2024-04-28 04:25:49.731769: I external/local_tsl/tsl/framework/bfc_allocator.cc:1100] InUse at 71cca0036b00 of size 12288 next 81\n",
      "2024-04-28 04:25:49.731780: I external/local_tsl/tsl/framework/bfc_allocator.cc:1100] InUse at 71cca0039b00 of size 3072 next 84\n",
      "2024-04-28 04:25:49.731789: I external/local_tsl/tsl/framework/bfc_allocator.cc:1100] InUse at 71cca003a700 of size 3072 next 110\n",
      "2024-04-28 04:25:49.731798: I external/local_tsl/tsl/framework/bfc_allocator.cc:1100] InUse at 71cca003b300 of size 3072 next 109\n",
      "2024-04-28 04:25:49.731807: I external/local_tsl/tsl/framework/bfc_allocator.cc:1100] InUse at 71cca003bf00 of size 3072 next 107\n",
      "2024-04-28 04:25:49.731815: I external/local_tsl/tsl/framework/bfc_allocator.cc:1100] InUse at 71cca003cb00 of size 3072 next 104\n",
      "2024-04-28 04:25:49.731824: I external/local_tsl/tsl/framework/bfc_allocator.cc:1100] InUse at 71cca003d700 of size 3072 next 103\n",
      "2024-04-28 04:25:49.731833: I external/local_tsl/tsl/framework/bfc_allocator.cc:1100] InUse at 71cca003e300 of size 3072 next 106\n",
      "2024-04-28 04:25:49.731841: I external/local_tsl/tsl/framework/bfc_allocator.cc:1100] InUse at 71cca003ef00 of size 3072 next 101\n",
      "2024-04-28 04:25:49.731850: I external/local_tsl/tsl/framework/bfc_allocator.cc:1100] InUse at 71cca003fb00 of size 3072 next 99\n",
      "2024-04-28 04:25:49.731859: I external/local_tsl/tsl/framework/bfc_allocator.cc:1100] InUse at 71cca0040700 of size 12288 next 97\n",
      "2024-04-28 04:25:49.731868: I external/local_tsl/tsl/framework/bfc_allocator.cc:1100] InUse at 71cca0043700 of size 256 next 100\n",
      "2024-04-28 04:25:49.731876: I external/local_tsl/tsl/framework/bfc_allocator.cc:1100] InUse at 71cca0043800 of size 256 next 98\n",
      "2024-04-28 04:25:49.731884: I external/local_tsl/tsl/framework/bfc_allocator.cc:1100] InUse at 71cca0043900 of size 256 next 119\n",
      "2024-04-28 04:25:49.731893: I external/local_tsl/tsl/framework/bfc_allocator.cc:1100] InUse at 71cca0043a00 of size 256 next 121\n",
      "2024-04-28 04:25:49.731901: I external/local_tsl/tsl/framework/bfc_allocator.cc:1100] Free  at 71cca0043b00 of size 6144 next 115\n",
      "2024-04-28 04:25:49.731910: I external/local_tsl/tsl/framework/bfc_allocator.cc:1100] InUse at 71cca0045300 of size 3072 next 118\n",
      "2024-04-28 04:25:49.731919: I external/local_tsl/tsl/framework/bfc_allocator.cc:1100] InUse at 71cca0045f00 of size 960512 next 128\n",
      "2024-04-28 04:25:49.731929: I external/local_tsl/tsl/framework/bfc_allocator.cc:1100] InUse at 71cca0130700 of size 605184 next 55\n",
      "2024-04-28 04:25:49.731938: I external/local_tsl/tsl/framework/bfc_allocator.cc:1100] InUse at 71cca01c4300 of size 256 next 112\n",
      "2024-04-28 04:25:49.731946: I external/local_tsl/tsl/framework/bfc_allocator.cc:1100] InUse at 71cca01c4400 of size 256 next 116\n",
      "2024-04-28 04:25:49.731955: I external/local_tsl/tsl/framework/bfc_allocator.cc:1100] InUse at 71cca01c4500 of size 256 next 135\n",
      "2024-04-28 04:25:49.731963: I external/local_tsl/tsl/framework/bfc_allocator.cc:1100] InUse at 71cca01c4600 of size 256 next 133\n",
      "2024-04-28 04:25:49.731972: I external/local_tsl/tsl/framework/bfc_allocator.cc:1100] Free  at 71cca01c4700 of size 2048 next 114\n",
      "2024-04-28 04:25:49.731981: I external/local_tsl/tsl/framework/bfc_allocator.cc:1100] InUse at 71cca01c4f00 of size 3072 next 120\n",
      "2024-04-28 04:25:49.731990: I external/local_tsl/tsl/framework/bfc_allocator.cc:1100] InUse at 71cca01c5b00 of size 3072 next 136\n",
      "2024-04-28 04:25:49.731999: I external/local_tsl/tsl/framework/bfc_allocator.cc:1100] Free  at 71cca01c6700 of size 595968 next 117\n",
      "2024-04-28 04:25:49.732007: I external/local_tsl/tsl/framework/bfc_allocator.cc:1100] InUse at 71cca0257f00 of size 605184 next 113\n",
      "2024-04-28 04:25:49.732017: I external/local_tsl/tsl/framework/bfc_allocator.cc:1100] InUse at 71cca02ebb00 of size 1148928 next 34\n",
      "2024-04-28 04:25:49.732026: I external/local_tsl/tsl/framework/bfc_allocator.cc:1100] InUse at 71cca0404300 of size 2359296 next 131\n",
      "2024-04-28 04:25:49.732035: I external/local_tsl/tsl/framework/bfc_allocator.cc:1100] InUse at 71cca0644300 of size 2359296 next 132\n",
      "2024-04-28 04:25:49.732043: I external/local_tsl/tsl/framework/bfc_allocator.cc:1100] InUse at 71cca0884300 of size 2359296 next 23\n",
      "2024-04-28 04:25:49.732055: I external/local_tsl/tsl/framework/bfc_allocator.cc:1100] InUse at 71cca0ac4300 of size 2359296 next 124\n",
      "2024-04-28 04:25:49.732064: I external/local_tsl/tsl/framework/bfc_allocator.cc:1100] InUse at 71cca0d04300 of size 2359296 next 122\n",
      "2024-04-28 04:25:49.732072: I external/local_tsl/tsl/framework/bfc_allocator.cc:1100] InUse at 71cca0f44300 of size 2359296 next 126\n",
      "2024-04-28 04:25:49.732081: I external/local_tsl/tsl/framework/bfc_allocator.cc:1100] InUse at 71cca1184300 of size 2359296 next 19\n",
      "2024-04-28 04:25:49.732089: I external/local_tsl/tsl/framework/bfc_allocator.cc:1100] InUse at 71cca13c4300 of size 2359296 next 14\n",
      "2024-04-28 04:25:49.732098: I external/local_tsl/tsl/framework/bfc_allocator.cc:1100] InUse at 71cca1604300 of size 2359296 next 9\n",
      "2024-04-28 04:25:49.732107: I external/local_tsl/tsl/framework/bfc_allocator.cc:1100] InUse at 71cca1844300 of size 2359296 next 5\n",
      "2024-04-28 04:25:49.732115: I external/local_tsl/tsl/framework/bfc_allocator.cc:1100] InUse at 71cca1a84300 of size 2359296 next 38\n",
      "2024-04-28 04:25:49.732124: I external/local_tsl/tsl/framework/bfc_allocator.cc:1100] InUse at 71cca1cc4300 of size 2359296 next 36\n",
      "2024-04-28 04:25:49.732132: I external/local_tsl/tsl/framework/bfc_allocator.cc:1100] InUse at 71cca1f04300 of size 2359296 next 39\n",
      "2024-04-28 04:25:49.732141: I external/local_tsl/tsl/framework/bfc_allocator.cc:1100] InUse at 71cca2144300 of size 2359296 next 29\n",
      "2024-04-28 04:25:49.732150: I external/local_tsl/tsl/framework/bfc_allocator.cc:1100] InUse at 71cca2384300 of size 9437184 next 27\n",
      "2024-04-28 04:25:49.732159: I external/local_tsl/tsl/framework/bfc_allocator.cc:1100] InUse at 71cca2c84300 of size 9437184 next 6\n",
      "2024-04-28 04:25:49.732168: I external/local_tsl/tsl/framework/bfc_allocator.cc:1100] InUse at 71cca3584300 of size 2359296 next 60\n",
      "2024-04-28 04:25:49.732176: I external/local_tsl/tsl/framework/bfc_allocator.cc:1100] InUse at 71cca37c4300 of size 2359296 next 57\n",
      "2024-04-28 04:25:49.732185: I external/local_tsl/tsl/framework/bfc_allocator.cc:1100] InUse at 71cca3a04300 of size 2359296 next 12\n",
      "2024-04-28 04:25:49.732193: I external/local_tsl/tsl/framework/bfc_allocator.cc:1100] InUse at 71cca3c44300 of size 2359296 next 8\n",
      "2024-04-28 04:25:49.732202: I external/local_tsl/tsl/framework/bfc_allocator.cc:1100] InUse at 71cca3e84300 of size 9437184 next 13\n",
      "2024-04-28 04:25:49.732211: I external/local_tsl/tsl/framework/bfc_allocator.cc:1100] InUse at 71cca4784300 of size 9437184 next 46\n",
      "2024-04-28 04:25:49.732219: I external/local_tsl/tsl/framework/bfc_allocator.cc:1100] InUse at 71cca5084300 of size 2359296 next 76\n",
      "2024-04-28 04:25:49.732228: I external/local_tsl/tsl/framework/bfc_allocator.cc:1100] InUse at 71cca52c4300 of size 2359296 next 73\n",
      "2024-04-28 04:25:49.732236: I external/local_tsl/tsl/framework/bfc_allocator.cc:1100] InUse at 71cca5504300 of size 2359296 next 70\n",
      "2024-04-28 04:25:49.732245: I external/local_tsl/tsl/framework/bfc_allocator.cc:1100] InUse at 71cca5744300 of size 2359296 next 32\n",
      "2024-04-28 04:25:49.732253: I external/local_tsl/tsl/framework/bfc_allocator.cc:1100] InUse at 71cca5984300 of size 9437184 next 33\n",
      "2024-04-28 04:25:49.732262: I external/local_tsl/tsl/framework/bfc_allocator.cc:1100] InUse at 71cca6284300 of size 9437184 next 63\n",
      "2024-04-28 04:25:49.732270: I external/local_tsl/tsl/framework/bfc_allocator.cc:1100] InUse at 71cca6b84300 of size 2359296 next 92\n",
      "2024-04-28 04:25:49.732279: I external/local_tsl/tsl/framework/bfc_allocator.cc:1100] InUse at 71cca6dc4300 of size 2359296 next 89\n",
      "2024-04-28 04:25:49.732288: I external/local_tsl/tsl/framework/bfc_allocator.cc:1100] InUse at 71cca7004300 of size 2359296 next 86\n",
      "2024-04-28 04:25:49.732296: I external/local_tsl/tsl/framework/bfc_allocator.cc:1100] InUse at 71cca7244300 of size 2359296 next 49\n",
      "2024-04-28 04:25:49.732305: I external/local_tsl/tsl/framework/bfc_allocator.cc:1100] InUse at 71cca7484300 of size 9437184 next 50\n",
      "2024-04-28 04:25:49.732313: I external/local_tsl/tsl/framework/bfc_allocator.cc:1100] InUse at 71cca7d84300 of size 9437184 next 79\n",
      "2024-04-28 04:25:49.732324: I external/local_tsl/tsl/framework/bfc_allocator.cc:1100] InUse at 71cca8684300 of size 2359296 next 108\n",
      "2024-04-28 04:25:49.732332: I external/local_tsl/tsl/framework/bfc_allocator.cc:1100] InUse at 71cca88c4300 of size 2359296 next 105\n",
      "2024-04-28 04:25:49.732341: I external/local_tsl/tsl/framework/bfc_allocator.cc:1100] InUse at 71cca8b04300 of size 2359296 next 102\n",
      "2024-04-28 04:25:49.732350: I external/local_tsl/tsl/framework/bfc_allocator.cc:1100] InUse at 71cca8d44300 of size 2359296 next 64\n",
      "2024-04-28 04:25:49.732358: I external/local_tsl/tsl/framework/bfc_allocator.cc:1100] InUse at 71cca8f84300 of size 9437184 next 66\n",
      "2024-04-28 04:25:49.732367: I external/local_tsl/tsl/framework/bfc_allocator.cc:1100] InUse at 71cca9884300 of size 9437184 next 95\n",
      "2024-04-28 04:25:49.732376: I external/local_tsl/tsl/framework/bfc_allocator.cc:1100] InUse at 71ccaa184300 of size 9437184 next 80\n",
      "2024-04-28 04:25:49.732384: I external/local_tsl/tsl/framework/bfc_allocator.cc:1100] InUse at 71ccaaa84300 of size 9437184 next 82\n",
      "2024-04-28 04:25:49.732393: I external/local_tsl/tsl/framework/bfc_allocator.cc:1100] InUse at 71ccab384300 of size 9437184 next 111\n",
      "2024-04-28 04:25:49.732401: I external/local_tsl/tsl/framework/bfc_allocator.cc:1100] InUse at 71ccabc84300 of size 9437184 next 96\n",
      "2024-04-28 04:25:49.732411: I external/local_tsl/tsl/framework/bfc_allocator.cc:1100] InUse at 71ccac584300 of size 12500224 next 18446744073709551615\n",
      "2024-04-28 04:25:49.732420: I external/local_tsl/tsl/framework/bfc_allocator.cc:1105]      Summary of in-use Chunks by size: \n",
      "2024-04-28 04:25:49.732433: I external/local_tsl/tsl/framework/bfc_allocator.cc:1108] 13 Chunks of size 256 totalling 3.2KiB\n",
      "2024-04-28 04:25:49.732444: I external/local_tsl/tsl/framework/bfc_allocator.cc:1108] 1 Chunks of size 1280 totalling 1.2KiB\n",
      "2024-04-28 04:25:49.732453: I external/local_tsl/tsl/framework/bfc_allocator.cc:1108] 62 Chunks of size 3072 totalling 186.0KiB\n",
      "2024-04-28 04:25:49.732462: I external/local_tsl/tsl/framework/bfc_allocator.cc:1108] 1 Chunks of size 3584 totalling 3.5KiB\n",
      "2024-04-28 04:25:49.732472: I external/local_tsl/tsl/framework/bfc_allocator.cc:1108] 6 Chunks of size 12288 totalling 72.0KiB\n",
      "2024-04-28 04:25:49.732482: I external/local_tsl/tsl/framework/bfc_allocator.cc:1108] 1 Chunks of size 15104 totalling 14.8KiB\n",
      "2024-04-28 04:25:49.732491: I external/local_tsl/tsl/framework/bfc_allocator.cc:1108] 2 Chunks of size 605184 totalling 1.15MiB\n",
      "2024-04-28 04:25:49.732500: I external/local_tsl/tsl/framework/bfc_allocator.cc:1108] 1 Chunks of size 960512 totalling 938.0KiB\n",
      "2024-04-28 04:25:49.732510: I external/local_tsl/tsl/framework/bfc_allocator.cc:1108] 1 Chunks of size 1148928 totalling 1.10MiB\n",
      "2024-04-28 04:25:49.732521: I external/local_tsl/tsl/framework/bfc_allocator.cc:1108] 30 Chunks of size 2359296 totalling 67.50MiB\n",
      "2024-04-28 04:25:49.732531: I external/local_tsl/tsl/framework/bfc_allocator.cc:1108] 14 Chunks of size 9437184 totalling 126.00MiB\n",
      "2024-04-28 04:25:49.732542: I external/local_tsl/tsl/framework/bfc_allocator.cc:1108] 1 Chunks of size 12500224 totalling 11.92MiB\n",
      "2024-04-28 04:25:49.732555: I external/local_tsl/tsl/framework/bfc_allocator.cc:1112] Sum Total of in-use chunks: 208.86MiB\n",
      "2024-04-28 04:25:49.732564: I external/local_tsl/tsl/framework/bfc_allocator.cc:1114] Total bytes in pool: 219611136 memory_limit_: 219611136 available bytes: 0 curr_region_allocation_bytes_: 439222272\n",
      "2024-04-28 04:25:49.732583: I external/local_tsl/tsl/framework/bfc_allocator.cc:1119] Stats: \n",
      "Limit:                       219611136\n",
      "InUse:                       219006976\n",
      "MaxInUse:                    219013120\n",
      "NumAllocs:                         637\n",
      "MaxAllocSize:                 12525056\n",
      "Reserved:                            0\n",
      "PeakReserved:                        0\n",
      "LargestFreeBlock:                    0\n",
      "\n",
      "2024-04-28 04:25:49.732605: W external/local_tsl/tsl/framework/bfc_allocator.cc:499] ***************************************************************************************************x\n",
      "2024-04-28 04:25:49.732648: W tensorflow/core/framework/op_kernel.cc:1839] OP_REQUIRES failed at stateless_random_ops_v2.cc:64 : RESOURCE_EXHAUSTED: OOM when allocating tensor with shape[1,197,768] and type float on /job:localhost/replica:0/task:0/device:GPU:0 by allocator GPU_0_bfc\n",
      "2024-04-28 04:25:49.732677: W tensorflow/core/framework/local_rendezvous.cc:404] Local rendezvous is aborting with status: RESOURCE_EXHAUSTED: OOM when allocating tensor with shape[1,197,768] and type float on /job:localhost/replica:0/task:0/device:GPU:0 by allocator GPU_0_bfc\n"
     ]
    },
    {
     "ename": "ResourceExhaustedError",
     "evalue": "{{function_node __wrapped__StatelessTruncatedNormalV2_device_/job:localhost/replica:0/task:0/device:GPU:0}} OOM when allocating tensor with shape[1,197,768] and type float on /job:localhost/replica:0/task:0/device:GPU:0 by allocator GPU_0_bfc [Op:StatelessTruncatedNormalV2] name: ",
     "output_type": "error",
     "traceback": [
      "\u001b[0;31m---------------------------------------------------------------------------\u001b[0m",
      "\u001b[0;31mResourceExhaustedError\u001b[0m                    Traceback (most recent call last)",
      "Cell \u001b[0;32mIn[27], line 13\u001b[0m\n\u001b[1;32m      1\u001b[0m \u001b[38;5;28;01mfrom\u001b[39;00m \u001b[38;5;21;01mtransformers\u001b[39;00m \u001b[38;5;28;01mimport\u001b[39;00m (\n\u001b[1;32m      2\u001b[0m     TFConvNextV2ForImageClassification,\n\u001b[1;32m      3\u001b[0m     AutoModelForImageClassification,\n\u001b[0;32m   (...)\u001b[0m\n\u001b[1;32m      8\u001b[0m     \u001b[38;5;66;03m# TFTrainer,\u001b[39;00m\n\u001b[1;32m      9\u001b[0m )\n\u001b[1;32m     10\u001b[0m \u001b[38;5;28;01mfrom\u001b[39;00m \u001b[38;5;21;01mtensorflow\u001b[39;00m\u001b[38;5;21;01m.\u001b[39;00m\u001b[38;5;21;01mkeras\u001b[39;00m\u001b[38;5;21;01m.\u001b[39;00m\u001b[38;5;21;01moptimizers\u001b[39;00m \u001b[38;5;28;01mimport\u001b[39;00m Adam\n\u001b[0;32m---> 13\u001b[0m base_model \u001b[38;5;241m=\u001b[39m \u001b[43mTFAutoModelForImageClassification\u001b[49m\u001b[38;5;241;43m.\u001b[39;49m\u001b[43mfrom_pretrained\u001b[49m\u001b[43m(\u001b[49m\u001b[43mBASE_REPO\u001b[49m\u001b[43m)\u001b[49m  \n\u001b[1;32m     14\u001b[0m \u001b[38;5;66;03m# base_model.compile(optimizer=Adam(3e-5), use_cpu=True)\u001b[39;00m\n",
      "File \u001b[0;32m~/anaconda3/envs/uts-dl/lib/python3.12/site-packages/transformers/models/auto/auto_factory.py:563\u001b[0m, in \u001b[0;36m_BaseAutoModelClass.from_pretrained\u001b[0;34m(cls, pretrained_model_name_or_path, *model_args, **kwargs)\u001b[0m\n\u001b[1;32m    561\u001b[0m \u001b[38;5;28;01melif\u001b[39;00m \u001b[38;5;28mtype\u001b[39m(config) \u001b[38;5;129;01min\u001b[39;00m \u001b[38;5;28mcls\u001b[39m\u001b[38;5;241m.\u001b[39m_model_mapping\u001b[38;5;241m.\u001b[39mkeys():\n\u001b[1;32m    562\u001b[0m     model_class \u001b[38;5;241m=\u001b[39m _get_model_class(config, \u001b[38;5;28mcls\u001b[39m\u001b[38;5;241m.\u001b[39m_model_mapping)\n\u001b[0;32m--> 563\u001b[0m     \u001b[38;5;28;01mreturn\u001b[39;00m \u001b[43mmodel_class\u001b[49m\u001b[38;5;241;43m.\u001b[39;49m\u001b[43mfrom_pretrained\u001b[49m\u001b[43m(\u001b[49m\n\u001b[1;32m    564\u001b[0m \u001b[43m        \u001b[49m\u001b[43mpretrained_model_name_or_path\u001b[49m\u001b[43m,\u001b[49m\u001b[43m \u001b[49m\u001b[38;5;241;43m*\u001b[39;49m\u001b[43mmodel_args\u001b[49m\u001b[43m,\u001b[49m\u001b[43m \u001b[49m\u001b[43mconfig\u001b[49m\u001b[38;5;241;43m=\u001b[39;49m\u001b[43mconfig\u001b[49m\u001b[43m,\u001b[49m\u001b[43m \u001b[49m\u001b[38;5;241;43m*\u001b[39;49m\u001b[38;5;241;43m*\u001b[39;49m\u001b[43mhub_kwargs\u001b[49m\u001b[43m,\u001b[49m\u001b[43m \u001b[49m\u001b[38;5;241;43m*\u001b[39;49m\u001b[38;5;241;43m*\u001b[39;49m\u001b[43mkwargs\u001b[49m\n\u001b[1;32m    565\u001b[0m \u001b[43m    \u001b[49m\u001b[43m)\u001b[49m\n\u001b[1;32m    566\u001b[0m \u001b[38;5;28;01mraise\u001b[39;00m \u001b[38;5;167;01mValueError\u001b[39;00m(\n\u001b[1;32m    567\u001b[0m     \u001b[38;5;124mf\u001b[39m\u001b[38;5;124m\"\u001b[39m\u001b[38;5;124mUnrecognized configuration class \u001b[39m\u001b[38;5;132;01m{\u001b[39;00mconfig\u001b[38;5;241m.\u001b[39m\u001b[38;5;18m__class__\u001b[39m\u001b[38;5;132;01m}\u001b[39;00m\u001b[38;5;124m for this kind of AutoModel: \u001b[39m\u001b[38;5;132;01m{\u001b[39;00m\u001b[38;5;28mcls\u001b[39m\u001b[38;5;241m.\u001b[39m\u001b[38;5;18m__name__\u001b[39m\u001b[38;5;132;01m}\u001b[39;00m\u001b[38;5;124m.\u001b[39m\u001b[38;5;130;01m\\n\u001b[39;00m\u001b[38;5;124m\"\u001b[39m\n\u001b[1;32m    568\u001b[0m     \u001b[38;5;124mf\u001b[39m\u001b[38;5;124m\"\u001b[39m\u001b[38;5;124mModel type should be one of \u001b[39m\u001b[38;5;132;01m{\u001b[39;00m\u001b[38;5;124m'\u001b[39m\u001b[38;5;124m, \u001b[39m\u001b[38;5;124m'\u001b[39m\u001b[38;5;241m.\u001b[39mjoin(c\u001b[38;5;241m.\u001b[39m\u001b[38;5;18m__name__\u001b[39m\u001b[38;5;250m \u001b[39m\u001b[38;5;28;01mfor\u001b[39;00m\u001b[38;5;250m \u001b[39mc\u001b[38;5;250m \u001b[39m\u001b[38;5;129;01min\u001b[39;00m\u001b[38;5;250m \u001b[39m\u001b[38;5;28mcls\u001b[39m\u001b[38;5;241m.\u001b[39m_model_mapping\u001b[38;5;241m.\u001b[39mkeys())\u001b[38;5;132;01m}\u001b[39;00m\u001b[38;5;124m.\u001b[39m\u001b[38;5;124m\"\u001b[39m\n\u001b[1;32m    569\u001b[0m )\n",
      "File \u001b[0;32m~/anaconda3/envs/uts-dl/lib/python3.12/site-packages/transformers/modeling_tf_utils.py:2903\u001b[0m, in \u001b[0;36mTFPreTrainedModel.from_pretrained\u001b[0;34m(cls, pretrained_model_name_or_path, config, cache_dir, ignore_mismatched_sizes, force_download, local_files_only, token, revision, use_safetensors, *model_args, **kwargs)\u001b[0m\n\u001b[1;32m   2901\u001b[0m         model\u001b[38;5;241m.\u001b[39mbuild_in_name_scope()  \u001b[38;5;66;03m# build the network with dummy inputs\u001b[39;00m\n\u001b[1;32m   2902\u001b[0m \u001b[38;5;28;01melse\u001b[39;00m:\n\u001b[0;32m-> 2903\u001b[0m     \u001b[43mmodel\u001b[49m\u001b[38;5;241;43m.\u001b[39;49m\u001b[43mbuild_in_name_scope\u001b[49m\u001b[43m(\u001b[49m\u001b[43m)\u001b[49m  \u001b[38;5;66;03m# build the network with dummy inputs\u001b[39;00m\n\u001b[1;32m   2905\u001b[0m \u001b[38;5;28;01mif\u001b[39;00m safetensors_from_pt:\n\u001b[1;32m   2906\u001b[0m     \u001b[38;5;28;01mfrom\u001b[39;00m \u001b[38;5;21;01m.\u001b[39;00m\u001b[38;5;21;01mmodeling_tf_pytorch_utils\u001b[39;00m \u001b[38;5;28;01mimport\u001b[39;00m load_pytorch_state_dict_in_tf2_model\n",
      "File \u001b[0;32m~/anaconda3/envs/uts-dl/lib/python3.12/site-packages/transformers/modeling_tf_utils.py:1138\u001b[0m, in \u001b[0;36mTFPreTrainedModel.build_in_name_scope\u001b[0;34m(self)\u001b[0m\n\u001b[1;32m   1136\u001b[0m \u001b[38;5;28;01mdef\u001b[39;00m \u001b[38;5;21mbuild_in_name_scope\u001b[39m(\u001b[38;5;28mself\u001b[39m):\n\u001b[1;32m   1137\u001b[0m     \u001b[38;5;28;01mwith\u001b[39;00m tf\u001b[38;5;241m.\u001b[39mname_scope(\u001b[38;5;28mself\u001b[39m\u001b[38;5;241m.\u001b[39mname):\n\u001b[0;32m-> 1138\u001b[0m         \u001b[38;5;28;43mself\u001b[39;49m\u001b[38;5;241;43m.\u001b[39;49m\u001b[43mbuild\u001b[49m\u001b[43m(\u001b[49m\u001b[43minput_shape\u001b[49m\u001b[38;5;241;43m=\u001b[39;49m\u001b[38;5;28;43;01mNone\u001b[39;49;00m\u001b[43m)\u001b[49m\n",
      "File \u001b[0;32m~/anaconda3/envs/uts-dl/lib/python3.12/site-packages/transformers/models/vit/modeling_tf_vit.py:902\u001b[0m, in \u001b[0;36mTFViTForImageClassification.build\u001b[0;34m(self, input_shape)\u001b[0m\n\u001b[1;32m    900\u001b[0m \u001b[38;5;28;01mif\u001b[39;00m \u001b[38;5;28mgetattr\u001b[39m(\u001b[38;5;28mself\u001b[39m, \u001b[38;5;124m\"\u001b[39m\u001b[38;5;124mvit\u001b[39m\u001b[38;5;124m\"\u001b[39m, \u001b[38;5;28;01mNone\u001b[39;00m) \u001b[38;5;129;01mis\u001b[39;00m \u001b[38;5;129;01mnot\u001b[39;00m \u001b[38;5;28;01mNone\u001b[39;00m:\n\u001b[1;32m    901\u001b[0m     \u001b[38;5;28;01mwith\u001b[39;00m tf\u001b[38;5;241m.\u001b[39mname_scope(\u001b[38;5;28mself\u001b[39m\u001b[38;5;241m.\u001b[39mvit\u001b[38;5;241m.\u001b[39mname):\n\u001b[0;32m--> 902\u001b[0m         \u001b[38;5;28;43mself\u001b[39;49m\u001b[38;5;241;43m.\u001b[39;49m\u001b[43mvit\u001b[49m\u001b[38;5;241;43m.\u001b[39;49m\u001b[43mbuild\u001b[49m\u001b[43m(\u001b[49m\u001b[38;5;28;43;01mNone\u001b[39;49;00m\u001b[43m)\u001b[49m\n\u001b[1;32m    903\u001b[0m \u001b[38;5;28;01mif\u001b[39;00m \u001b[38;5;28mgetattr\u001b[39m(\u001b[38;5;28mself\u001b[39m, \u001b[38;5;124m\"\u001b[39m\u001b[38;5;124mclassifier\u001b[39m\u001b[38;5;124m\"\u001b[39m, \u001b[38;5;28;01mNone\u001b[39;00m) \u001b[38;5;129;01mis\u001b[39;00m \u001b[38;5;129;01mnot\u001b[39;00m \u001b[38;5;28;01mNone\u001b[39;00m:\n\u001b[1;32m    904\u001b[0m     \u001b[38;5;28;01mwith\u001b[39;00m tf\u001b[38;5;241m.\u001b[39mname_scope(\u001b[38;5;28mself\u001b[39m\u001b[38;5;241m.\u001b[39mclassifier\u001b[38;5;241m.\u001b[39mname):\n",
      "File \u001b[0;32m~/anaconda3/envs/uts-dl/lib/python3.12/site-packages/transformers/models/vit/modeling_tf_vit.py:641\u001b[0m, in \u001b[0;36mTFViTMainLayer.build\u001b[0;34m(self, input_shape)\u001b[0m\n\u001b[1;32m    639\u001b[0m \u001b[38;5;28;01mif\u001b[39;00m \u001b[38;5;28mgetattr\u001b[39m(\u001b[38;5;28mself\u001b[39m, \u001b[38;5;124m\"\u001b[39m\u001b[38;5;124membeddings\u001b[39m\u001b[38;5;124m\"\u001b[39m, \u001b[38;5;28;01mNone\u001b[39;00m) \u001b[38;5;129;01mis\u001b[39;00m \u001b[38;5;129;01mnot\u001b[39;00m \u001b[38;5;28;01mNone\u001b[39;00m:\n\u001b[1;32m    640\u001b[0m     \u001b[38;5;28;01mwith\u001b[39;00m tf\u001b[38;5;241m.\u001b[39mname_scope(\u001b[38;5;28mself\u001b[39m\u001b[38;5;241m.\u001b[39membeddings\u001b[38;5;241m.\u001b[39mname):\n\u001b[0;32m--> 641\u001b[0m         \u001b[38;5;28;43mself\u001b[39;49m\u001b[38;5;241;43m.\u001b[39;49m\u001b[43membeddings\u001b[49m\u001b[38;5;241;43m.\u001b[39;49m\u001b[43mbuild\u001b[49m\u001b[43m(\u001b[49m\u001b[38;5;28;43;01mNone\u001b[39;49;00m\u001b[43m)\u001b[49m\n\u001b[1;32m    642\u001b[0m \u001b[38;5;28;01mif\u001b[39;00m \u001b[38;5;28mgetattr\u001b[39m(\u001b[38;5;28mself\u001b[39m, \u001b[38;5;124m\"\u001b[39m\u001b[38;5;124mencoder\u001b[39m\u001b[38;5;124m\"\u001b[39m, \u001b[38;5;28;01mNone\u001b[39;00m) \u001b[38;5;129;01mis\u001b[39;00m \u001b[38;5;129;01mnot\u001b[39;00m \u001b[38;5;28;01mNone\u001b[39;00m:\n\u001b[1;32m    643\u001b[0m     \u001b[38;5;28;01mwith\u001b[39;00m tf\u001b[38;5;241m.\u001b[39mname_scope(\u001b[38;5;28mself\u001b[39m\u001b[38;5;241m.\u001b[39mencoder\u001b[38;5;241m.\u001b[39mname):\n",
      "File \u001b[0;32m~/anaconda3/envs/uts-dl/lib/python3.12/site-packages/transformers/models/vit/modeling_tf_vit.py:78\u001b[0m, in \u001b[0;36mTFViTEmbeddings.build\u001b[0;34m(self, input_shape)\u001b[0m\n\u001b[1;32m     71\u001b[0m num_patches \u001b[38;5;241m=\u001b[39m \u001b[38;5;28mself\u001b[39m\u001b[38;5;241m.\u001b[39mpatch_embeddings\u001b[38;5;241m.\u001b[39mnum_patches\n\u001b[1;32m     72\u001b[0m \u001b[38;5;28mself\u001b[39m\u001b[38;5;241m.\u001b[39mcls_token \u001b[38;5;241m=\u001b[39m \u001b[38;5;28mself\u001b[39m\u001b[38;5;241m.\u001b[39madd_weight(\n\u001b[1;32m     73\u001b[0m     shape\u001b[38;5;241m=\u001b[39m(\u001b[38;5;241m1\u001b[39m, \u001b[38;5;241m1\u001b[39m, \u001b[38;5;28mself\u001b[39m\u001b[38;5;241m.\u001b[39mconfig\u001b[38;5;241m.\u001b[39mhidden_size),\n\u001b[1;32m     74\u001b[0m     initializer\u001b[38;5;241m=\u001b[39mget_initializer(\u001b[38;5;28mself\u001b[39m\u001b[38;5;241m.\u001b[39mconfig\u001b[38;5;241m.\u001b[39minitializer_range),\n\u001b[1;32m     75\u001b[0m     trainable\u001b[38;5;241m=\u001b[39m\u001b[38;5;28;01mTrue\u001b[39;00m,\n\u001b[1;32m     76\u001b[0m     name\u001b[38;5;241m=\u001b[39m\u001b[38;5;124m\"\u001b[39m\u001b[38;5;124mcls_token\u001b[39m\u001b[38;5;124m\"\u001b[39m,\n\u001b[1;32m     77\u001b[0m )\n\u001b[0;32m---> 78\u001b[0m \u001b[38;5;28mself\u001b[39m\u001b[38;5;241m.\u001b[39mposition_embeddings \u001b[38;5;241m=\u001b[39m \u001b[38;5;28;43mself\u001b[39;49m\u001b[38;5;241;43m.\u001b[39;49m\u001b[43madd_weight\u001b[49m\u001b[43m(\u001b[49m\n\u001b[1;32m     79\u001b[0m \u001b[43m    \u001b[49m\u001b[43mshape\u001b[49m\u001b[38;5;241;43m=\u001b[39;49m\u001b[43m(\u001b[49m\u001b[38;5;241;43m1\u001b[39;49m\u001b[43m,\u001b[49m\u001b[43m \u001b[49m\u001b[43mnum_patches\u001b[49m\u001b[43m \u001b[49m\u001b[38;5;241;43m+\u001b[39;49m\u001b[43m \u001b[49m\u001b[38;5;241;43m1\u001b[39;49m\u001b[43m,\u001b[49m\u001b[43m \u001b[49m\u001b[38;5;28;43mself\u001b[39;49m\u001b[38;5;241;43m.\u001b[39;49m\u001b[43mconfig\u001b[49m\u001b[38;5;241;43m.\u001b[39;49m\u001b[43mhidden_size\u001b[49m\u001b[43m)\u001b[49m\u001b[43m,\u001b[49m\n\u001b[1;32m     80\u001b[0m \u001b[43m    \u001b[49m\u001b[43minitializer\u001b[49m\u001b[38;5;241;43m=\u001b[39;49m\u001b[43mget_initializer\u001b[49m\u001b[43m(\u001b[49m\u001b[38;5;28;43mself\u001b[39;49m\u001b[38;5;241;43m.\u001b[39;49m\u001b[43mconfig\u001b[49m\u001b[38;5;241;43m.\u001b[39;49m\u001b[43minitializer_range\u001b[49m\u001b[43m)\u001b[49m\u001b[43m,\u001b[49m\n\u001b[1;32m     81\u001b[0m \u001b[43m    \u001b[49m\u001b[43mtrainable\u001b[49m\u001b[38;5;241;43m=\u001b[39;49m\u001b[38;5;28;43;01mTrue\u001b[39;49;00m\u001b[43m,\u001b[49m\n\u001b[1;32m     82\u001b[0m \u001b[43m    \u001b[49m\u001b[43mname\u001b[49m\u001b[38;5;241;43m=\u001b[39;49m\u001b[38;5;124;43m\"\u001b[39;49m\u001b[38;5;124;43mposition_embeddings\u001b[39;49m\u001b[38;5;124;43m\"\u001b[39;49m\u001b[43m,\u001b[49m\n\u001b[1;32m     83\u001b[0m \u001b[43m\u001b[49m\u001b[43m)\u001b[49m\n\u001b[1;32m     85\u001b[0m \u001b[38;5;28;01mif\u001b[39;00m \u001b[38;5;28mself\u001b[39m\u001b[38;5;241m.\u001b[39mbuilt:\n\u001b[1;32m     86\u001b[0m     \u001b[38;5;28;01mreturn\u001b[39;00m\n",
      "File \u001b[0;32m~/anaconda3/envs/uts-dl/lib/python3.12/site-packages/tf_keras/src/engine/base_layer.py:699\u001b[0m, in \u001b[0;36mLayer.add_weight\u001b[0;34m(self, name, shape, dtype, initializer, regularizer, trainable, constraint, use_resource, synchronization, aggregation, **kwargs)\u001b[0m\n\u001b[1;32m    696\u001b[0m \u001b[38;5;28;01mif\u001b[39;00m layout:\n\u001b[1;32m    697\u001b[0m     getter \u001b[38;5;241m=\u001b[39m functools\u001b[38;5;241m.\u001b[39mpartial(getter, layout\u001b[38;5;241m=\u001b[39mlayout)\n\u001b[0;32m--> 699\u001b[0m variable \u001b[38;5;241m=\u001b[39m \u001b[38;5;28;43mself\u001b[39;49m\u001b[38;5;241;43m.\u001b[39;49m\u001b[43m_add_variable_with_custom_getter\u001b[49m\u001b[43m(\u001b[49m\n\u001b[1;32m    700\u001b[0m \u001b[43m    \u001b[49m\u001b[43mname\u001b[49m\u001b[38;5;241;43m=\u001b[39;49m\u001b[43mname\u001b[49m\u001b[43m,\u001b[49m\n\u001b[1;32m    701\u001b[0m \u001b[43m    \u001b[49m\u001b[43mshape\u001b[49m\u001b[38;5;241;43m=\u001b[39;49m\u001b[43mshape\u001b[49m\u001b[43m,\u001b[49m\n\u001b[1;32m    702\u001b[0m \u001b[43m    \u001b[49m\u001b[38;5;66;43;03m# TODO(allenl): a `make_variable` equivalent should be added as a\u001b[39;49;00m\n\u001b[1;32m    703\u001b[0m \u001b[43m    \u001b[49m\u001b[38;5;66;43;03m# `Trackable` method.\u001b[39;49;00m\n\u001b[1;32m    704\u001b[0m \u001b[43m    \u001b[49m\u001b[43mgetter\u001b[49m\u001b[38;5;241;43m=\u001b[39;49m\u001b[43mgetter\u001b[49m\u001b[43m,\u001b[49m\n\u001b[1;32m    705\u001b[0m \u001b[43m    \u001b[49m\u001b[38;5;66;43;03m# Manage errors in Layer rather than Trackable.\u001b[39;49;00m\n\u001b[1;32m    706\u001b[0m \u001b[43m    \u001b[49m\u001b[43moverwrite\u001b[49m\u001b[38;5;241;43m=\u001b[39;49m\u001b[38;5;28;43;01mTrue\u001b[39;49;00m\u001b[43m,\u001b[49m\n\u001b[1;32m    707\u001b[0m \u001b[43m    \u001b[49m\u001b[43minitializer\u001b[49m\u001b[38;5;241;43m=\u001b[39;49m\u001b[43minitializer\u001b[49m\u001b[43m,\u001b[49m\n\u001b[1;32m    708\u001b[0m \u001b[43m    \u001b[49m\u001b[43mdtype\u001b[49m\u001b[38;5;241;43m=\u001b[39;49m\u001b[43mdtype\u001b[49m\u001b[43m,\u001b[49m\n\u001b[1;32m    709\u001b[0m \u001b[43m    \u001b[49m\u001b[43mconstraint\u001b[49m\u001b[38;5;241;43m=\u001b[39;49m\u001b[43mconstraint\u001b[49m\u001b[43m,\u001b[49m\n\u001b[1;32m    710\u001b[0m \u001b[43m    \u001b[49m\u001b[43mtrainable\u001b[49m\u001b[38;5;241;43m=\u001b[39;49m\u001b[43mtrainable\u001b[49m\u001b[43m,\u001b[49m\n\u001b[1;32m    711\u001b[0m \u001b[43m    \u001b[49m\u001b[43muse_resource\u001b[49m\u001b[38;5;241;43m=\u001b[39;49m\u001b[43muse_resource\u001b[49m\u001b[43m,\u001b[49m\n\u001b[1;32m    712\u001b[0m \u001b[43m    \u001b[49m\u001b[43mcollections\u001b[49m\u001b[38;5;241;43m=\u001b[39;49m\u001b[43mcollections_arg\u001b[49m\u001b[43m,\u001b[49m\n\u001b[1;32m    713\u001b[0m \u001b[43m    \u001b[49m\u001b[43msynchronization\u001b[49m\u001b[38;5;241;43m=\u001b[39;49m\u001b[43msynchronization\u001b[49m\u001b[43m,\u001b[49m\n\u001b[1;32m    714\u001b[0m \u001b[43m    \u001b[49m\u001b[43maggregation\u001b[49m\u001b[38;5;241;43m=\u001b[39;49m\u001b[43maggregation\u001b[49m\u001b[43m,\u001b[49m\n\u001b[1;32m    715\u001b[0m \u001b[43m    \u001b[49m\u001b[43mcaching_device\u001b[49m\u001b[38;5;241;43m=\u001b[39;49m\u001b[43mcaching_device\u001b[49m\u001b[43m,\u001b[49m\n\u001b[1;32m    716\u001b[0m \u001b[43m\u001b[49m\u001b[43m)\u001b[49m\n\u001b[1;32m    717\u001b[0m \u001b[38;5;28;01mif\u001b[39;00m regularizer \u001b[38;5;129;01mis\u001b[39;00m \u001b[38;5;129;01mnot\u001b[39;00m \u001b[38;5;28;01mNone\u001b[39;00m:\n\u001b[1;32m    718\u001b[0m     \u001b[38;5;66;03m# TODO(fchollet): in the future, this should be handled at the\u001b[39;00m\n\u001b[1;32m    719\u001b[0m     \u001b[38;5;66;03m# level of variable creation, and weight regularization losses\u001b[39;00m\n\u001b[1;32m    720\u001b[0m     \u001b[38;5;66;03m# should be variable attributes.\u001b[39;00m\n\u001b[1;32m    721\u001b[0m     name_in_scope \u001b[38;5;241m=\u001b[39m variable\u001b[38;5;241m.\u001b[39mname[: variable\u001b[38;5;241m.\u001b[39mname\u001b[38;5;241m.\u001b[39mfind(\u001b[38;5;124m\"\u001b[39m\u001b[38;5;124m:\u001b[39m\u001b[38;5;124m\"\u001b[39m)]\n",
      "File \u001b[0;32m~/anaconda3/envs/uts-dl/lib/python3.12/site-packages/tensorflow/python/trackable/base.py:492\u001b[0m, in \u001b[0;36mTrackable._add_variable_with_custom_getter\u001b[0;34m(self, name, shape, dtype, initializer, getter, overwrite, **kwargs_for_getter)\u001b[0m\n\u001b[1;32m    482\u001b[0m   \u001b[38;5;28;01mif\u001b[39;00m (checkpoint_initializer \u001b[38;5;129;01mis\u001b[39;00m \u001b[38;5;129;01mnot\u001b[39;00m \u001b[38;5;28;01mNone\u001b[39;00m \u001b[38;5;129;01mand\u001b[39;00m\n\u001b[1;32m    483\u001b[0m       \u001b[38;5;129;01mnot\u001b[39;00m (\u001b[38;5;28misinstance\u001b[39m(initializer, CheckpointInitialValueCallable) \u001b[38;5;129;01mand\u001b[39;00m\n\u001b[1;32m    484\u001b[0m            (initializer\u001b[38;5;241m.\u001b[39mrestore_uid \u001b[38;5;241m>\u001b[39m checkpoint_initializer\u001b[38;5;241m.\u001b[39mrestore_uid))):\n\u001b[0;32m   (...)\u001b[0m\n\u001b[1;32m    489\u001b[0m     \u001b[38;5;66;03m# then we'll catch that when we call _track_trackable. So this is\u001b[39;00m\n\u001b[1;32m    490\u001b[0m     \u001b[38;5;66;03m# \"best effort\" to set the initializer with the highest restore UID.\u001b[39;00m\n\u001b[1;32m    491\u001b[0m     initializer \u001b[38;5;241m=\u001b[39m checkpoint_initializer\n\u001b[0;32m--> 492\u001b[0m new_variable \u001b[38;5;241m=\u001b[39m \u001b[43mgetter\u001b[49m\u001b[43m(\u001b[49m\n\u001b[1;32m    493\u001b[0m \u001b[43m    \u001b[49m\u001b[43mname\u001b[49m\u001b[38;5;241;43m=\u001b[39;49m\u001b[43mname\u001b[49m\u001b[43m,\u001b[49m\n\u001b[1;32m    494\u001b[0m \u001b[43m    \u001b[49m\u001b[43mshape\u001b[49m\u001b[38;5;241;43m=\u001b[39;49m\u001b[43mshape\u001b[49m\u001b[43m,\u001b[49m\n\u001b[1;32m    495\u001b[0m \u001b[43m    \u001b[49m\u001b[43mdtype\u001b[49m\u001b[38;5;241;43m=\u001b[39;49m\u001b[43mdtype\u001b[49m\u001b[43m,\u001b[49m\n\u001b[1;32m    496\u001b[0m \u001b[43m    \u001b[49m\u001b[43minitializer\u001b[49m\u001b[38;5;241;43m=\u001b[39;49m\u001b[43minitializer\u001b[49m\u001b[43m,\u001b[49m\n\u001b[1;32m    497\u001b[0m \u001b[43m    \u001b[49m\u001b[38;5;241;43m*\u001b[39;49m\u001b[38;5;241;43m*\u001b[39;49m\u001b[43mkwargs_for_getter\u001b[49m\u001b[43m)\u001b[49m\n\u001b[1;32m    499\u001b[0m \u001b[38;5;66;03m# If we set an initializer and the variable processed it, tracking will not\u001b[39;00m\n\u001b[1;32m    500\u001b[0m \u001b[38;5;66;03m# assign again. It will add this variable to our dependencies, and if there\u001b[39;00m\n\u001b[1;32m    501\u001b[0m \u001b[38;5;66;03m# is a non-trivial restoration queued, it will handle that. This also\u001b[39;00m\n\u001b[1;32m    502\u001b[0m \u001b[38;5;66;03m# handles slot variables.\u001b[39;00m\n\u001b[1;32m    503\u001b[0m \u001b[38;5;28;01mif\u001b[39;00m \u001b[38;5;129;01mnot\u001b[39;00m overwrite \u001b[38;5;129;01mor\u001b[39;00m \u001b[38;5;28misinstance\u001b[39m(new_variable, Trackable):\n",
      "File \u001b[0;32m~/anaconda3/envs/uts-dl/lib/python3.12/site-packages/tf_keras/src/engine/base_layer_utils.py:137\u001b[0m, in \u001b[0;36mmake_variable\u001b[0;34m(name, shape, dtype, initializer, trainable, caching_device, validate_shape, constraint, use_resource, collections, synchronization, aggregation, partitioner, layout, experimental_enable_variable_lifting)\u001b[0m\n\u001b[1;32m    130\u001b[0m     use_resource \u001b[38;5;241m=\u001b[39m \u001b[38;5;28;01mTrue\u001b[39;00m\n\u001b[1;32m    132\u001b[0m \u001b[38;5;28;01mif\u001b[39;00m layout \u001b[38;5;129;01mis\u001b[39;00m \u001b[38;5;28;01mNone\u001b[39;00m:\n\u001b[1;32m    133\u001b[0m     \u001b[38;5;66;03m# In theory, in `use_resource` is True and `collections` is empty\u001b[39;00m\n\u001b[1;32m    134\u001b[0m     \u001b[38;5;66;03m# (that is to say, in TF2), we can use tf.Variable.\u001b[39;00m\n\u001b[1;32m    135\u001b[0m     \u001b[38;5;66;03m# However, this breaks legacy (Estimator) checkpoints because\u001b[39;00m\n\u001b[1;32m    136\u001b[0m     \u001b[38;5;66;03m# it changes variable names. Remove this when V1 is fully deprecated.\u001b[39;00m\n\u001b[0;32m--> 137\u001b[0m     \u001b[38;5;28;01mreturn\u001b[39;00m \u001b[43mtf1\u001b[49m\u001b[38;5;241;43m.\u001b[39;49m\u001b[43mVariable\u001b[49m\u001b[43m(\u001b[49m\n\u001b[1;32m    138\u001b[0m \u001b[43m        \u001b[49m\u001b[43minitial_value\u001b[49m\u001b[38;5;241;43m=\u001b[39;49m\u001b[43minit_val\u001b[49m\u001b[43m,\u001b[49m\n\u001b[1;32m    139\u001b[0m \u001b[43m        \u001b[49m\u001b[43mname\u001b[49m\u001b[38;5;241;43m=\u001b[39;49m\u001b[43mname\u001b[49m\u001b[43m,\u001b[49m\n\u001b[1;32m    140\u001b[0m \u001b[43m        \u001b[49m\u001b[43mtrainable\u001b[49m\u001b[38;5;241;43m=\u001b[39;49m\u001b[43mtrainable\u001b[49m\u001b[43m,\u001b[49m\n\u001b[1;32m    141\u001b[0m \u001b[43m        \u001b[49m\u001b[43mcaching_device\u001b[49m\u001b[38;5;241;43m=\u001b[39;49m\u001b[43mcaching_device\u001b[49m\u001b[43m,\u001b[49m\n\u001b[1;32m    142\u001b[0m \u001b[43m        \u001b[49m\u001b[43mdtype\u001b[49m\u001b[38;5;241;43m=\u001b[39;49m\u001b[43mvariable_dtype\u001b[49m\u001b[43m,\u001b[49m\n\u001b[1;32m    143\u001b[0m \u001b[43m        \u001b[49m\u001b[43mvalidate_shape\u001b[49m\u001b[38;5;241;43m=\u001b[39;49m\u001b[43mvalidate_shape\u001b[49m\u001b[43m,\u001b[49m\n\u001b[1;32m    144\u001b[0m \u001b[43m        \u001b[49m\u001b[43mconstraint\u001b[49m\u001b[38;5;241;43m=\u001b[39;49m\u001b[43mconstraint\u001b[49m\u001b[43m,\u001b[49m\n\u001b[1;32m    145\u001b[0m \u001b[43m        \u001b[49m\u001b[43muse_resource\u001b[49m\u001b[38;5;241;43m=\u001b[39;49m\u001b[43muse_resource\u001b[49m\u001b[43m,\u001b[49m\n\u001b[1;32m    146\u001b[0m \u001b[43m        \u001b[49m\u001b[43mcollections\u001b[49m\u001b[38;5;241;43m=\u001b[39;49m\u001b[43mcollections\u001b[49m\u001b[43m,\u001b[49m\n\u001b[1;32m    147\u001b[0m \u001b[43m        \u001b[49m\u001b[43msynchronization\u001b[49m\u001b[38;5;241;43m=\u001b[39;49m\u001b[43msynchronization\u001b[49m\u001b[43m,\u001b[49m\n\u001b[1;32m    148\u001b[0m \u001b[43m        \u001b[49m\u001b[43maggregation\u001b[49m\u001b[38;5;241;43m=\u001b[39;49m\u001b[43maggregation\u001b[49m\u001b[43m,\u001b[49m\n\u001b[1;32m    149\u001b[0m \u001b[43m        \u001b[49m\u001b[43mshape\u001b[49m\u001b[38;5;241;43m=\u001b[39;49m\u001b[43mvariable_shape\u001b[49m\u001b[43m \u001b[49m\u001b[38;5;28;43;01mif\u001b[39;49;00m\u001b[43m \u001b[49m\u001b[43mvariable_shape\u001b[49m\u001b[43m \u001b[49m\u001b[38;5;28;43;01melse\u001b[39;49;00m\u001b[43m \u001b[49m\u001b[38;5;28;43;01mNone\u001b[39;49;00m\u001b[43m,\u001b[49m\n\u001b[1;32m    150\u001b[0m \u001b[43m        \u001b[49m\u001b[43mexperimental_enable_variable_lifting\u001b[49m\u001b[38;5;241;43m=\u001b[39;49m\u001b[43mexperimental_enable_variable_lifting\u001b[49m\u001b[43m,\u001b[49m\u001b[43m  \u001b[49m\u001b[38;5;66;43;03m# noqa: E501\u001b[39;49;00m\n\u001b[1;32m    151\u001b[0m \u001b[43m    \u001b[49m\u001b[43m)\u001b[49m\n\u001b[1;32m    152\u001b[0m \u001b[38;5;28;01melse\u001b[39;00m:\n\u001b[1;32m    153\u001b[0m     \u001b[38;5;28;01mreturn\u001b[39;00m dtensor\u001b[38;5;241m.\u001b[39mDVariable(\n\u001b[1;32m    154\u001b[0m         initial_value\u001b[38;5;241m=\u001b[39minit_val,\n\u001b[1;32m    155\u001b[0m         name\u001b[38;5;241m=\u001b[39mname,\n\u001b[0;32m   (...)\u001b[0m\n\u001b[1;32m    164\u001b[0m         shape\u001b[38;5;241m=\u001b[39mvariable_shape \u001b[38;5;28;01mif\u001b[39;00m variable_shape \u001b[38;5;28;01melse\u001b[39;00m \u001b[38;5;28;01mNone\u001b[39;00m,\n\u001b[1;32m    165\u001b[0m     )\n",
      "File \u001b[0;32m~/anaconda3/envs/uts-dl/lib/python3.12/site-packages/tensorflow/python/util/traceback_utils.py:153\u001b[0m, in \u001b[0;36mfilter_traceback.<locals>.error_handler\u001b[0;34m(*args, **kwargs)\u001b[0m\n\u001b[1;32m    151\u001b[0m \u001b[38;5;28;01mexcept\u001b[39;00m \u001b[38;5;167;01mException\u001b[39;00m \u001b[38;5;28;01mas\u001b[39;00m e:\n\u001b[1;32m    152\u001b[0m   filtered_tb \u001b[38;5;241m=\u001b[39m _process_traceback_frames(e\u001b[38;5;241m.\u001b[39m__traceback__)\n\u001b[0;32m--> 153\u001b[0m   \u001b[38;5;28;01mraise\u001b[39;00m e\u001b[38;5;241m.\u001b[39mwith_traceback(filtered_tb) \u001b[38;5;28;01mfrom\u001b[39;00m \u001b[38;5;28;01mNone\u001b[39;00m\n\u001b[1;32m    154\u001b[0m \u001b[38;5;28;01mfinally\u001b[39;00m:\n\u001b[1;32m    155\u001b[0m   \u001b[38;5;28;01mdel\u001b[39;00m filtered_tb\n",
      "File \u001b[0;32m~/anaconda3/envs/uts-dl/lib/python3.12/site-packages/tf_keras/src/initializers/initializers.py:525\u001b[0m, in \u001b[0;36mTruncatedNormal.__call__\u001b[0;34m(self, shape, dtype, **kwargs)\u001b[0m\n\u001b[1;32m    515\u001b[0m     _ensure_keras_seeded()\n\u001b[1;32m    516\u001b[0m     \u001b[38;5;28;01mreturn\u001b[39;00m utils\u001b[38;5;241m.\u001b[39mcall_with_layout(\n\u001b[1;32m    517\u001b[0m         \u001b[38;5;28mself\u001b[39m\u001b[38;5;241m.\u001b[39m_random_generator\u001b[38;5;241m.\u001b[39mtruncated_normal,\n\u001b[1;32m    518\u001b[0m         layout,\n\u001b[0;32m   (...)\u001b[0m\n\u001b[1;32m    523\u001b[0m         nonce,\n\u001b[1;32m    524\u001b[0m     )\n\u001b[0;32m--> 525\u001b[0m \u001b[38;5;28;01mreturn\u001b[39;00m \u001b[38;5;28;43mself\u001b[39;49m\u001b[38;5;241;43m.\u001b[39;49m\u001b[43m_random_generator\u001b[49m\u001b[38;5;241;43m.\u001b[39;49m\u001b[43mtruncated_normal\u001b[49m\u001b[43m(\u001b[49m\n\u001b[1;32m    526\u001b[0m \u001b[43m    \u001b[49m\u001b[43mshape\u001b[49m\u001b[43m,\u001b[49m\u001b[43m \u001b[49m\u001b[38;5;28;43mself\u001b[39;49m\u001b[38;5;241;43m.\u001b[39;49m\u001b[43mmean\u001b[49m\u001b[43m,\u001b[49m\u001b[43m \u001b[49m\u001b[38;5;28;43mself\u001b[39;49m\u001b[38;5;241;43m.\u001b[39;49m\u001b[43mstddev\u001b[49m\u001b[43m,\u001b[49m\u001b[43m \u001b[49m\u001b[43mdtype\u001b[49m\u001b[43m,\u001b[49m\u001b[43m \u001b[49m\u001b[43mnonce\u001b[49m\n\u001b[1;32m    527\u001b[0m \u001b[43m\u001b[49m\u001b[43m)\u001b[49m\n",
      "File \u001b[0;32m~/anaconda3/envs/uts-dl/lib/python3.12/site-packages/tf_keras/src/backend.py:2144\u001b[0m, in \u001b[0;36mRandomGenerator.truncated_normal\u001b[0;34m(self, shape, mean, stddev, dtype, nonce)\u001b[0m\n\u001b[1;32m   2142\u001b[0m     \u001b[38;5;28;01mif\u001b[39;00m nonce:\n\u001b[1;32m   2143\u001b[0m         seed \u001b[38;5;241m=\u001b[39m tf\u001b[38;5;241m.\u001b[39mrandom\u001b[38;5;241m.\u001b[39mexperimental\u001b[38;5;241m.\u001b[39mstateless_fold_in(seed, nonce)\n\u001b[0;32m-> 2144\u001b[0m     \u001b[38;5;28;01mreturn\u001b[39;00m \u001b[43mtf\u001b[49m\u001b[38;5;241;43m.\u001b[39;49m\u001b[43mrandom\u001b[49m\u001b[38;5;241;43m.\u001b[39;49m\u001b[43mstateless_truncated_normal\u001b[49m\u001b[43m(\u001b[49m\n\u001b[1;32m   2145\u001b[0m \u001b[43m        \u001b[49m\u001b[43mshape\u001b[49m\u001b[38;5;241;43m=\u001b[39;49m\u001b[43mshape\u001b[49m\u001b[43m,\u001b[49m\u001b[43m \u001b[49m\u001b[43mmean\u001b[49m\u001b[38;5;241;43m=\u001b[39;49m\u001b[43mmean\u001b[49m\u001b[43m,\u001b[49m\u001b[43m \u001b[49m\u001b[43mstddev\u001b[49m\u001b[38;5;241;43m=\u001b[39;49m\u001b[43mstddev\u001b[49m\u001b[43m,\u001b[49m\u001b[43m \u001b[49m\u001b[43mdtype\u001b[49m\u001b[38;5;241;43m=\u001b[39;49m\u001b[43mdtype\u001b[49m\u001b[43m,\u001b[49m\u001b[43m \u001b[49m\u001b[43mseed\u001b[49m\u001b[38;5;241;43m=\u001b[39;49m\u001b[43mseed\u001b[49m\n\u001b[1;32m   2146\u001b[0m \u001b[43m    \u001b[49m\u001b[43m)\u001b[49m\n\u001b[1;32m   2147\u001b[0m \u001b[38;5;28;01mreturn\u001b[39;00m tf\u001b[38;5;241m.\u001b[39mrandom\u001b[38;5;241m.\u001b[39mtruncated_normal(\n\u001b[1;32m   2148\u001b[0m     shape\u001b[38;5;241m=\u001b[39mshape,\n\u001b[1;32m   2149\u001b[0m     mean\u001b[38;5;241m=\u001b[39mmean,\n\u001b[0;32m   (...)\u001b[0m\n\u001b[1;32m   2152\u001b[0m     seed\u001b[38;5;241m=\u001b[39m\u001b[38;5;28mself\u001b[39m\u001b[38;5;241m.\u001b[39mmake_legacy_seed(),\n\u001b[1;32m   2153\u001b[0m )\n",
      "\u001b[0;31mResourceExhaustedError\u001b[0m: {{function_node __wrapped__StatelessTruncatedNormalV2_device_/job:localhost/replica:0/task:0/device:GPU:0}} OOM when allocating tensor with shape[1,197,768] and type float on /job:localhost/replica:0/task:0/device:GPU:0 by allocator GPU_0_bfc [Op:StatelessTruncatedNormalV2] name: "
     ]
    }
   ],
   "source": [
    "from transformers import (\n",
    "    TFConvNextV2ForImageClassification,\n",
    "    AutoModelForImageClassification,\n",
    "    TFAutoModelForImageClassification,\n",
    "    TrainingArguments,\n",
    "    TFTrainingArguments,\n",
    "    Trainer,\n",
    "    # TFTrainer,\n",
    ")\n",
    "from tensorflow.keras.optimizers import Adam\n",
    "\n",
    "\n",
    "base_model = TFAutoModelForImageClassification.from_pretrained(BASE_REPO)  \n",
    "# base_model.compile(optimizer=Adam(3e-5), use_cpu=True)"
   ]
  },
  {
   "cell_type": "code",
   "execution_count": 22,
   "metadata": {},
   "outputs": [
    {
     "ename": "ValueError",
     "evalue": "You have to specify pixel_values",
     "output_type": "error",
     "traceback": [
      "\u001b[0;31m---------------------------------------------------------------------------\u001b[0m",
      "\u001b[0;31mValueError\u001b[0m                                Traceback (most recent call last)",
      "Cell \u001b[0;32mIn[22], line 1\u001b[0m\n\u001b[0;32m----> 1\u001b[0m \u001b[43mtrainer\u001b[49m\u001b[38;5;241;43m.\u001b[39;49m\u001b[43mtrain\u001b[49m\u001b[43m(\u001b[49m\u001b[43m)\u001b[49m\n",
      "File \u001b[0;32m~/anaconda3/envs/uts-dl/lib/python3.12/site-packages/transformers/trainer.py:1780\u001b[0m, in \u001b[0;36mTrainer.train\u001b[0;34m(self, resume_from_checkpoint, trial, ignore_keys_for_eval, **kwargs)\u001b[0m\n\u001b[1;32m   1778\u001b[0m         hf_hub_utils\u001b[38;5;241m.\u001b[39menable_progress_bars()\n\u001b[1;32m   1779\u001b[0m \u001b[38;5;28;01melse\u001b[39;00m:\n\u001b[0;32m-> 1780\u001b[0m     \u001b[38;5;28;01mreturn\u001b[39;00m \u001b[43minner_training_loop\u001b[49m\u001b[43m(\u001b[49m\n\u001b[1;32m   1781\u001b[0m \u001b[43m        \u001b[49m\u001b[43margs\u001b[49m\u001b[38;5;241;43m=\u001b[39;49m\u001b[43margs\u001b[49m\u001b[43m,\u001b[49m\n\u001b[1;32m   1782\u001b[0m \u001b[43m        \u001b[49m\u001b[43mresume_from_checkpoint\u001b[49m\u001b[38;5;241;43m=\u001b[39;49m\u001b[43mresume_from_checkpoint\u001b[49m\u001b[43m,\u001b[49m\n\u001b[1;32m   1783\u001b[0m \u001b[43m        \u001b[49m\u001b[43mtrial\u001b[49m\u001b[38;5;241;43m=\u001b[39;49m\u001b[43mtrial\u001b[49m\u001b[43m,\u001b[49m\n\u001b[1;32m   1784\u001b[0m \u001b[43m        \u001b[49m\u001b[43mignore_keys_for_eval\u001b[49m\u001b[38;5;241;43m=\u001b[39;49m\u001b[43mignore_keys_for_eval\u001b[49m\u001b[43m,\u001b[49m\n\u001b[1;32m   1785\u001b[0m \u001b[43m    \u001b[49m\u001b[43m)\u001b[49m\n",
      "File \u001b[0;32m~/anaconda3/envs/uts-dl/lib/python3.12/site-packages/transformers/trainer.py:2118\u001b[0m, in \u001b[0;36mTrainer._inner_training_loop\u001b[0;34m(self, batch_size, args, resume_from_checkpoint, trial, ignore_keys_for_eval)\u001b[0m\n\u001b[1;32m   2115\u001b[0m     \u001b[38;5;28mself\u001b[39m\u001b[38;5;241m.\u001b[39mcontrol \u001b[38;5;241m=\u001b[39m \u001b[38;5;28mself\u001b[39m\u001b[38;5;241m.\u001b[39mcallback_handler\u001b[38;5;241m.\u001b[39mon_step_begin(args, \u001b[38;5;28mself\u001b[39m\u001b[38;5;241m.\u001b[39mstate, \u001b[38;5;28mself\u001b[39m\u001b[38;5;241m.\u001b[39mcontrol)\n\u001b[1;32m   2117\u001b[0m \u001b[38;5;28;01mwith\u001b[39;00m \u001b[38;5;28mself\u001b[39m\u001b[38;5;241m.\u001b[39maccelerator\u001b[38;5;241m.\u001b[39maccumulate(model):\n\u001b[0;32m-> 2118\u001b[0m     tr_loss_step \u001b[38;5;241m=\u001b[39m \u001b[38;5;28;43mself\u001b[39;49m\u001b[38;5;241;43m.\u001b[39;49m\u001b[43mtraining_step\u001b[49m\u001b[43m(\u001b[49m\u001b[43mmodel\u001b[49m\u001b[43m,\u001b[49m\u001b[43m \u001b[49m\u001b[43minputs\u001b[49m\u001b[43m)\u001b[49m\n\u001b[1;32m   2120\u001b[0m \u001b[38;5;28;01mif\u001b[39;00m (\n\u001b[1;32m   2121\u001b[0m     args\u001b[38;5;241m.\u001b[39mlogging_nan_inf_filter\n\u001b[1;32m   2122\u001b[0m     \u001b[38;5;129;01mand\u001b[39;00m \u001b[38;5;129;01mnot\u001b[39;00m is_torch_xla_available()\n\u001b[1;32m   2123\u001b[0m     \u001b[38;5;129;01mand\u001b[39;00m (torch\u001b[38;5;241m.\u001b[39misnan(tr_loss_step) \u001b[38;5;129;01mor\u001b[39;00m torch\u001b[38;5;241m.\u001b[39misinf(tr_loss_step))\n\u001b[1;32m   2124\u001b[0m ):\n\u001b[1;32m   2125\u001b[0m     \u001b[38;5;66;03m# if loss is nan or inf simply add the average of previous logged losses\u001b[39;00m\n\u001b[1;32m   2126\u001b[0m     tr_loss \u001b[38;5;241m+\u001b[39m\u001b[38;5;241m=\u001b[39m tr_loss \u001b[38;5;241m/\u001b[39m (\u001b[38;5;241m1\u001b[39m \u001b[38;5;241m+\u001b[39m \u001b[38;5;28mself\u001b[39m\u001b[38;5;241m.\u001b[39mstate\u001b[38;5;241m.\u001b[39mglobal_step \u001b[38;5;241m-\u001b[39m \u001b[38;5;28mself\u001b[39m\u001b[38;5;241m.\u001b[39m_globalstep_last_logged)\n",
      "File \u001b[0;32m~/anaconda3/envs/uts-dl/lib/python3.12/site-packages/transformers/trainer.py:3036\u001b[0m, in \u001b[0;36mTrainer.training_step\u001b[0;34m(self, model, inputs)\u001b[0m\n\u001b[1;32m   3033\u001b[0m     \u001b[38;5;28;01mreturn\u001b[39;00m loss_mb\u001b[38;5;241m.\u001b[39mreduce_mean()\u001b[38;5;241m.\u001b[39mdetach()\u001b[38;5;241m.\u001b[39mto(\u001b[38;5;28mself\u001b[39m\u001b[38;5;241m.\u001b[39margs\u001b[38;5;241m.\u001b[39mdevice)\n\u001b[1;32m   3035\u001b[0m \u001b[38;5;28;01mwith\u001b[39;00m \u001b[38;5;28mself\u001b[39m\u001b[38;5;241m.\u001b[39mcompute_loss_context_manager():\n\u001b[0;32m-> 3036\u001b[0m     loss \u001b[38;5;241m=\u001b[39m \u001b[38;5;28;43mself\u001b[39;49m\u001b[38;5;241;43m.\u001b[39;49m\u001b[43mcompute_loss\u001b[49m\u001b[43m(\u001b[49m\u001b[43mmodel\u001b[49m\u001b[43m,\u001b[49m\u001b[43m \u001b[49m\u001b[43minputs\u001b[49m\u001b[43m)\u001b[49m\n\u001b[1;32m   3038\u001b[0m \u001b[38;5;28;01mif\u001b[39;00m \u001b[38;5;28mself\u001b[39m\u001b[38;5;241m.\u001b[39margs\u001b[38;5;241m.\u001b[39mn_gpu \u001b[38;5;241m>\u001b[39m \u001b[38;5;241m1\u001b[39m:\n\u001b[1;32m   3039\u001b[0m     loss \u001b[38;5;241m=\u001b[39m loss\u001b[38;5;241m.\u001b[39mmean()  \u001b[38;5;66;03m# mean() to average on multi-gpu parallel training\u001b[39;00m\n",
      "File \u001b[0;32m~/anaconda3/envs/uts-dl/lib/python3.12/site-packages/transformers/trainer.py:3059\u001b[0m, in \u001b[0;36mTrainer.compute_loss\u001b[0;34m(self, model, inputs, return_outputs)\u001b[0m\n\u001b[1;32m   3057\u001b[0m \u001b[38;5;28;01melse\u001b[39;00m:\n\u001b[1;32m   3058\u001b[0m     labels \u001b[38;5;241m=\u001b[39m \u001b[38;5;28;01mNone\u001b[39;00m\n\u001b[0;32m-> 3059\u001b[0m outputs \u001b[38;5;241m=\u001b[39m \u001b[43mmodel\u001b[49m\u001b[43m(\u001b[49m\u001b[38;5;241;43m*\u001b[39;49m\u001b[38;5;241;43m*\u001b[39;49m\u001b[43minputs\u001b[49m\u001b[43m)\u001b[49m\n\u001b[1;32m   3060\u001b[0m \u001b[38;5;66;03m# Save past state if it exists\u001b[39;00m\n\u001b[1;32m   3061\u001b[0m \u001b[38;5;66;03m# TODO: this needs to be fixed and made cleaner later.\u001b[39;00m\n\u001b[1;32m   3062\u001b[0m \u001b[38;5;28;01mif\u001b[39;00m \u001b[38;5;28mself\u001b[39m\u001b[38;5;241m.\u001b[39margs\u001b[38;5;241m.\u001b[39mpast_index \u001b[38;5;241m>\u001b[39m\u001b[38;5;241m=\u001b[39m \u001b[38;5;241m0\u001b[39m:\n",
      "File \u001b[0;32m~/anaconda3/envs/uts-dl/lib/python3.12/site-packages/torch/nn/modules/module.py:1511\u001b[0m, in \u001b[0;36mModule._wrapped_call_impl\u001b[0;34m(self, *args, **kwargs)\u001b[0m\n\u001b[1;32m   1509\u001b[0m     \u001b[38;5;28;01mreturn\u001b[39;00m \u001b[38;5;28mself\u001b[39m\u001b[38;5;241m.\u001b[39m_compiled_call_impl(\u001b[38;5;241m*\u001b[39margs, \u001b[38;5;241m*\u001b[39m\u001b[38;5;241m*\u001b[39mkwargs)  \u001b[38;5;66;03m# type: ignore[misc]\u001b[39;00m\n\u001b[1;32m   1510\u001b[0m \u001b[38;5;28;01melse\u001b[39;00m:\n\u001b[0;32m-> 1511\u001b[0m     \u001b[38;5;28;01mreturn\u001b[39;00m \u001b[38;5;28;43mself\u001b[39;49m\u001b[38;5;241;43m.\u001b[39;49m\u001b[43m_call_impl\u001b[49m\u001b[43m(\u001b[49m\u001b[38;5;241;43m*\u001b[39;49m\u001b[43margs\u001b[49m\u001b[43m,\u001b[49m\u001b[43m \u001b[49m\u001b[38;5;241;43m*\u001b[39;49m\u001b[38;5;241;43m*\u001b[39;49m\u001b[43mkwargs\u001b[49m\u001b[43m)\u001b[49m\n",
      "File \u001b[0;32m~/anaconda3/envs/uts-dl/lib/python3.12/site-packages/torch/nn/modules/module.py:1520\u001b[0m, in \u001b[0;36mModule._call_impl\u001b[0;34m(self, *args, **kwargs)\u001b[0m\n\u001b[1;32m   1515\u001b[0m \u001b[38;5;66;03m# If we don't have any hooks, we want to skip the rest of the logic in\u001b[39;00m\n\u001b[1;32m   1516\u001b[0m \u001b[38;5;66;03m# this function, and just call forward.\u001b[39;00m\n\u001b[1;32m   1517\u001b[0m \u001b[38;5;28;01mif\u001b[39;00m \u001b[38;5;129;01mnot\u001b[39;00m (\u001b[38;5;28mself\u001b[39m\u001b[38;5;241m.\u001b[39m_backward_hooks \u001b[38;5;129;01mor\u001b[39;00m \u001b[38;5;28mself\u001b[39m\u001b[38;5;241m.\u001b[39m_backward_pre_hooks \u001b[38;5;129;01mor\u001b[39;00m \u001b[38;5;28mself\u001b[39m\u001b[38;5;241m.\u001b[39m_forward_hooks \u001b[38;5;129;01mor\u001b[39;00m \u001b[38;5;28mself\u001b[39m\u001b[38;5;241m.\u001b[39m_forward_pre_hooks\n\u001b[1;32m   1518\u001b[0m         \u001b[38;5;129;01mor\u001b[39;00m _global_backward_pre_hooks \u001b[38;5;129;01mor\u001b[39;00m _global_backward_hooks\n\u001b[1;32m   1519\u001b[0m         \u001b[38;5;129;01mor\u001b[39;00m _global_forward_hooks \u001b[38;5;129;01mor\u001b[39;00m _global_forward_pre_hooks):\n\u001b[0;32m-> 1520\u001b[0m     \u001b[38;5;28;01mreturn\u001b[39;00m \u001b[43mforward_call\u001b[49m\u001b[43m(\u001b[49m\u001b[38;5;241;43m*\u001b[39;49m\u001b[43margs\u001b[49m\u001b[43m,\u001b[49m\u001b[43m \u001b[49m\u001b[38;5;241;43m*\u001b[39;49m\u001b[38;5;241;43m*\u001b[39;49m\u001b[43mkwargs\u001b[49m\u001b[43m)\u001b[49m\n\u001b[1;32m   1522\u001b[0m \u001b[38;5;28;01mtry\u001b[39;00m:\n\u001b[1;32m   1523\u001b[0m     result \u001b[38;5;241m=\u001b[39m \u001b[38;5;28;01mNone\u001b[39;00m\n",
      "File \u001b[0;32m~/anaconda3/envs/uts-dl/lib/python3.12/site-packages/transformers/models/vit/modeling_vit.py:794\u001b[0m, in \u001b[0;36mViTForImageClassification.forward\u001b[0;34m(self, pixel_values, head_mask, labels, output_attentions, output_hidden_states, interpolate_pos_encoding, return_dict)\u001b[0m\n\u001b[1;32m    786\u001b[0m \u001b[38;5;250m\u001b[39m\u001b[38;5;124mr\u001b[39m\u001b[38;5;124;03m\"\"\"\u001b[39;00m\n\u001b[1;32m    787\u001b[0m \u001b[38;5;124;03mlabels (`torch.LongTensor` of shape `(batch_size,)`, *optional*):\u001b[39;00m\n\u001b[1;32m    788\u001b[0m \u001b[38;5;124;03m    Labels for computing the image classification/regression loss. Indices should be in `[0, ...,\u001b[39;00m\n\u001b[1;32m    789\u001b[0m \u001b[38;5;124;03m    config.num_labels - 1]`. If `config.num_labels == 1` a regression loss is computed (Mean-Square loss), If\u001b[39;00m\n\u001b[1;32m    790\u001b[0m \u001b[38;5;124;03m    `config.num_labels > 1` a classification loss is computed (Cross-Entropy).\u001b[39;00m\n\u001b[1;32m    791\u001b[0m \u001b[38;5;124;03m\"\"\"\u001b[39;00m\n\u001b[1;32m    792\u001b[0m return_dict \u001b[38;5;241m=\u001b[39m return_dict \u001b[38;5;28;01mif\u001b[39;00m return_dict \u001b[38;5;129;01mis\u001b[39;00m \u001b[38;5;129;01mnot\u001b[39;00m \u001b[38;5;28;01mNone\u001b[39;00m \u001b[38;5;28;01melse\u001b[39;00m \u001b[38;5;28mself\u001b[39m\u001b[38;5;241m.\u001b[39mconfig\u001b[38;5;241m.\u001b[39muse_return_dict\n\u001b[0;32m--> 794\u001b[0m outputs \u001b[38;5;241m=\u001b[39m \u001b[38;5;28;43mself\u001b[39;49m\u001b[38;5;241;43m.\u001b[39;49m\u001b[43mvit\u001b[49m\u001b[43m(\u001b[49m\n\u001b[1;32m    795\u001b[0m \u001b[43m    \u001b[49m\u001b[43mpixel_values\u001b[49m\u001b[43m,\u001b[49m\n\u001b[1;32m    796\u001b[0m \u001b[43m    \u001b[49m\u001b[43mhead_mask\u001b[49m\u001b[38;5;241;43m=\u001b[39;49m\u001b[43mhead_mask\u001b[49m\u001b[43m,\u001b[49m\n\u001b[1;32m    797\u001b[0m \u001b[43m    \u001b[49m\u001b[43moutput_attentions\u001b[49m\u001b[38;5;241;43m=\u001b[39;49m\u001b[43moutput_attentions\u001b[49m\u001b[43m,\u001b[49m\n\u001b[1;32m    798\u001b[0m \u001b[43m    \u001b[49m\u001b[43moutput_hidden_states\u001b[49m\u001b[38;5;241;43m=\u001b[39;49m\u001b[43moutput_hidden_states\u001b[49m\u001b[43m,\u001b[49m\n\u001b[1;32m    799\u001b[0m \u001b[43m    \u001b[49m\u001b[43minterpolate_pos_encoding\u001b[49m\u001b[38;5;241;43m=\u001b[39;49m\u001b[43minterpolate_pos_encoding\u001b[49m\u001b[43m,\u001b[49m\n\u001b[1;32m    800\u001b[0m \u001b[43m    \u001b[49m\u001b[43mreturn_dict\u001b[49m\u001b[38;5;241;43m=\u001b[39;49m\u001b[43mreturn_dict\u001b[49m\u001b[43m,\u001b[49m\n\u001b[1;32m    801\u001b[0m \u001b[43m\u001b[49m\u001b[43m)\u001b[49m\n\u001b[1;32m    803\u001b[0m sequence_output \u001b[38;5;241m=\u001b[39m outputs[\u001b[38;5;241m0\u001b[39m]\n\u001b[1;32m    805\u001b[0m logits \u001b[38;5;241m=\u001b[39m \u001b[38;5;28mself\u001b[39m\u001b[38;5;241m.\u001b[39mclassifier(sequence_output[:, \u001b[38;5;241m0\u001b[39m, :])\n",
      "File \u001b[0;32m~/anaconda3/envs/uts-dl/lib/python3.12/site-packages/torch/nn/modules/module.py:1511\u001b[0m, in \u001b[0;36mModule._wrapped_call_impl\u001b[0;34m(self, *args, **kwargs)\u001b[0m\n\u001b[1;32m   1509\u001b[0m     \u001b[38;5;28;01mreturn\u001b[39;00m \u001b[38;5;28mself\u001b[39m\u001b[38;5;241m.\u001b[39m_compiled_call_impl(\u001b[38;5;241m*\u001b[39margs, \u001b[38;5;241m*\u001b[39m\u001b[38;5;241m*\u001b[39mkwargs)  \u001b[38;5;66;03m# type: ignore[misc]\u001b[39;00m\n\u001b[1;32m   1510\u001b[0m \u001b[38;5;28;01melse\u001b[39;00m:\n\u001b[0;32m-> 1511\u001b[0m     \u001b[38;5;28;01mreturn\u001b[39;00m \u001b[38;5;28;43mself\u001b[39;49m\u001b[38;5;241;43m.\u001b[39;49m\u001b[43m_call_impl\u001b[49m\u001b[43m(\u001b[49m\u001b[38;5;241;43m*\u001b[39;49m\u001b[43margs\u001b[49m\u001b[43m,\u001b[49m\u001b[43m \u001b[49m\u001b[38;5;241;43m*\u001b[39;49m\u001b[38;5;241;43m*\u001b[39;49m\u001b[43mkwargs\u001b[49m\u001b[43m)\u001b[49m\n",
      "File \u001b[0;32m~/anaconda3/envs/uts-dl/lib/python3.12/site-packages/torch/nn/modules/module.py:1520\u001b[0m, in \u001b[0;36mModule._call_impl\u001b[0;34m(self, *args, **kwargs)\u001b[0m\n\u001b[1;32m   1515\u001b[0m \u001b[38;5;66;03m# If we don't have any hooks, we want to skip the rest of the logic in\u001b[39;00m\n\u001b[1;32m   1516\u001b[0m \u001b[38;5;66;03m# this function, and just call forward.\u001b[39;00m\n\u001b[1;32m   1517\u001b[0m \u001b[38;5;28;01mif\u001b[39;00m \u001b[38;5;129;01mnot\u001b[39;00m (\u001b[38;5;28mself\u001b[39m\u001b[38;5;241m.\u001b[39m_backward_hooks \u001b[38;5;129;01mor\u001b[39;00m \u001b[38;5;28mself\u001b[39m\u001b[38;5;241m.\u001b[39m_backward_pre_hooks \u001b[38;5;129;01mor\u001b[39;00m \u001b[38;5;28mself\u001b[39m\u001b[38;5;241m.\u001b[39m_forward_hooks \u001b[38;5;129;01mor\u001b[39;00m \u001b[38;5;28mself\u001b[39m\u001b[38;5;241m.\u001b[39m_forward_pre_hooks\n\u001b[1;32m   1518\u001b[0m         \u001b[38;5;129;01mor\u001b[39;00m _global_backward_pre_hooks \u001b[38;5;129;01mor\u001b[39;00m _global_backward_hooks\n\u001b[1;32m   1519\u001b[0m         \u001b[38;5;129;01mor\u001b[39;00m _global_forward_hooks \u001b[38;5;129;01mor\u001b[39;00m _global_forward_pre_hooks):\n\u001b[0;32m-> 1520\u001b[0m     \u001b[38;5;28;01mreturn\u001b[39;00m \u001b[43mforward_call\u001b[49m\u001b[43m(\u001b[49m\u001b[38;5;241;43m*\u001b[39;49m\u001b[43margs\u001b[49m\u001b[43m,\u001b[49m\u001b[43m \u001b[49m\u001b[38;5;241;43m*\u001b[39;49m\u001b[38;5;241;43m*\u001b[39;49m\u001b[43mkwargs\u001b[49m\u001b[43m)\u001b[49m\n\u001b[1;32m   1522\u001b[0m \u001b[38;5;28;01mtry\u001b[39;00m:\n\u001b[1;32m   1523\u001b[0m     result \u001b[38;5;241m=\u001b[39m \u001b[38;5;28;01mNone\u001b[39;00m\n",
      "File \u001b[0;32m~/anaconda3/envs/uts-dl/lib/python3.12/site-packages/transformers/models/vit/modeling_vit.py:559\u001b[0m, in \u001b[0;36mViTModel.forward\u001b[0;34m(self, pixel_values, bool_masked_pos, head_mask, output_attentions, output_hidden_states, interpolate_pos_encoding, return_dict)\u001b[0m\n\u001b[1;32m    556\u001b[0m return_dict \u001b[38;5;241m=\u001b[39m return_dict \u001b[38;5;28;01mif\u001b[39;00m return_dict \u001b[38;5;129;01mis\u001b[39;00m \u001b[38;5;129;01mnot\u001b[39;00m \u001b[38;5;28;01mNone\u001b[39;00m \u001b[38;5;28;01melse\u001b[39;00m \u001b[38;5;28mself\u001b[39m\u001b[38;5;241m.\u001b[39mconfig\u001b[38;5;241m.\u001b[39muse_return_dict\n\u001b[1;32m    558\u001b[0m \u001b[38;5;28;01mif\u001b[39;00m pixel_values \u001b[38;5;129;01mis\u001b[39;00m \u001b[38;5;28;01mNone\u001b[39;00m:\n\u001b[0;32m--> 559\u001b[0m     \u001b[38;5;28;01mraise\u001b[39;00m \u001b[38;5;167;01mValueError\u001b[39;00m(\u001b[38;5;124m\"\u001b[39m\u001b[38;5;124mYou have to specify pixel_values\u001b[39m\u001b[38;5;124m\"\u001b[39m)\n\u001b[1;32m    561\u001b[0m \u001b[38;5;66;03m# Prepare head mask if needed\u001b[39;00m\n\u001b[1;32m    562\u001b[0m \u001b[38;5;66;03m# 1.0 in head_mask indicate we keep the head\u001b[39;00m\n\u001b[1;32m    563\u001b[0m \u001b[38;5;66;03m# attention_probs has shape bsz x n_heads x N x N\u001b[39;00m\n\u001b[1;32m    564\u001b[0m \u001b[38;5;66;03m# input head_mask has shape [num_heads] or [num_hidden_layers x num_heads]\u001b[39;00m\n\u001b[1;32m    565\u001b[0m \u001b[38;5;66;03m# and head_mask is converted to shape [num_hidden_layers x batch x num_heads x seq_length x seq_length]\u001b[39;00m\n\u001b[1;32m    566\u001b[0m head_mask \u001b[38;5;241m=\u001b[39m \u001b[38;5;28mself\u001b[39m\u001b[38;5;241m.\u001b[39mget_head_mask(head_mask, \u001b[38;5;28mself\u001b[39m\u001b[38;5;241m.\u001b[39mconfig\u001b[38;5;241m.\u001b[39mnum_hidden_layers)\n",
      "\u001b[0;31mValueError\u001b[0m: You have to specify pixel_values"
     ]
    }
   ],
   "source": [
    "trainer.train()"
   ]
  }
 ],
 "metadata": {
  "kernelspec": {
   "display_name": "uts-dl",
   "language": "python",
   "name": "python3"
  },
  "language_info": {
   "codemirror_mode": {
    "name": "ipython",
    "version": 3
   },
   "file_extension": ".py",
   "mimetype": "text/x-python",
   "name": "python",
   "nbconvert_exporter": "python",
   "pygments_lexer": "ipython3",
   "version": "3.12.2"
  }
 },
 "nbformat": 4,
 "nbformat_minor": 2
}
